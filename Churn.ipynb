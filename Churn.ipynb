{
  "nbformat": 4,
  "nbformat_minor": 0,
  "metadata": {
    "colab": {
      "provenance": [],
      "authorship_tag": "ABX9TyMJFUpJVJXnEsrdGTgYHMsg",
      "include_colab_link": true
    },
    "kernelspec": {
      "name": "python3",
      "display_name": "Python 3"
    },
    "language_info": {
      "name": "python"
    }
  },
  "cells": [
    {
      "cell_type": "markdown",
      "metadata": {
        "id": "view-in-github",
        "colab_type": "text"
      },
      "source": [
        "<a href=\"https://colab.research.google.com/github/bryanvilcamarchand/Churn_prediction/blob/master/Churn.ipynb\" target=\"_parent\"><img src=\"https://colab.research.google.com/assets/colab-badge.svg\" alt=\"Open In Colab\"/></a>"
      ]
    },
    {
      "cell_type": "markdown",
      "source": [
        "# EL NEGOCIO DE LAS SUSCRIPCIONES Y LA IMPORTANCIA DEL CHURN"
      ],
      "metadata": {
        "id": "VrrMTP56ae_w"
      }
    },
    {
      "cell_type": "markdown",
      "source": [
        "<img src='https://www.pointillist.com/wp-content/uploads/2017/11/Running-4-the-Exit-2-844x422.png' width=\"600\" height=\"250\">"
      ],
      "metadata": {
        "id": "sfsQWPyoaiLR"
      }
    },
    {
      "cell_type": "markdown",
      "source": [
        "El modelo de negocio basado en suscripciones existe hace muchos años, y este consiste en vender productos o servicios a cambio de un pago, que por lo general, es una cuota mensual.  Como ejemplo podemos citar la industria de la telefonía, servicios de streaming, televisión por cable, internet de fibra óptica, entre otras. En nuestro país, la cantidad de competidores en cada una de estas industrias ha ido incrementando, y esto conlleva a que la inversión en canales tradicionales y digitales para alcanzar a nuevos clientes deba ser mayor, en otras palabras, el costo de adquirir nuevos clientes es más alto. Sin embargo, estos esfuerzos no servirán de nada, si por un lado conseguimos nuevos clientes, pero por otro no podemos retener a aquellos que ya forman parte de nuestra cartera. Es por esto que la RETENCIÓN es una estrategia clave para mantener en positivo los flujos de ingresos y rentabilidad de las compañías."
      ],
      "metadata": {
        "id": "Y-u952pbffd5"
      }
    },
    {
      "cell_type": "markdown",
      "source": [
        "El CUSTOMER CHURN o CUSTOMER ATTRITION se define como el % total de clientes que deciden dejar de pagar por un servicio o producto que tu compañía ofrece , durante un período específico. Este se puede calcular dividiendo el nro. de clientes que abandonaron el negocio en un período entre el total de clientes que se tenía al inicio de ese período, multiplicado por 100 para obtener un porcentaje.\n"
      ],
      "metadata": {
        "id": "dwrxLg0jd-09"
      }
    },
    {
      "cell_type": "markdown",
      "source": [
        "<img src='https://retailrocket.net/wp-content/uploads/2021/05/fo-rmula-eng.png' width=\"500\" height=\"200\">"
      ],
      "metadata": {
        "id": "HcnviIdedwoO"
      }
    },
    {
      "cell_type": "markdown",
      "source": [
        "El CHURN PREDICTION nos permite detectar a aquellos clientes o usuarios que tienen probabilidad de dar de baja a la suscripción de tu servicio. Si podemos identificar de manera oportuna aquellos clientes con riesgo de abandonar la compañía y el motivo, se pueden diseñar acciones para conseguir la retención de ellos.\n"
      ],
      "metadata": {
        "id": "aLcEY-7WeTCk"
      }
    },
    {
      "cell_type": "markdown",
      "source": [
        "# CASO DE NEGOCIO:\n",
        "\n",
        "En el presente proyecto tiene como reto crear un modelo que nos permita identificar aquellos clientes propoensos a dar de baja a su servicio de internet."
      ],
      "metadata": {
        "id": "AQ0P6UNxplB5"
      }
    },
    {
      "cell_type": "markdown",
      "source": [
        "# INFORMACIÓN DEL DATASET\n",
        "\n",
        "1. is_tv_subscriber: si tiene suscripción (1), no tiene suscripción (2)\n",
        "\n",
        "2. is_movie_package_subscriber: si tiene suscripción (1), no tiene suscripción (2)\n",
        "\n",
        "3. subscription_age: Cantidad de años de tener el servicio\n",
        "\n",
        "4. bill_avg: promedio facturación de últimos 3 meses\n",
        "\n",
        "5. reamining_contract: Cantidad de años para que finalice el contrato. Si es vacío, el cliente no tiene contratio. El cliente que tiene contrato debe usar su servicio hasta finalizar. Si cancela su servicio antes del final debe pagar una penalidad.\n",
        "\n",
        "Existen dos formas en que un cliente podría estar utilizando los servicios. El primero es a través de un contrato por tiempo limitado que representa una cuota menor y el segundo es a través de una suscripción mensual normal que tiene una cuota mayor. Si una persona no tiene un contrato, sigue siendo un usuario que paga tarifas mensuales.\n",
        "\n",
        "6. service_failure_count customer: Nro. de llamadas al centro de atención de servicio (CAC) por fallas en el servicio en los últimos 3 meses.\n",
        "\n",
        "7. download_avg: Datos usados en los últimos 3 meses (GB).\n",
        "\n",
        "8. upload_avg last: Carga de datos en los últimos 3 meses (GB).\n",
        "\n",
        "9. download_over_limit: Cada cliente tiene un límite de datos. Al superar este límite se debe pagar adicional. Esta columna contiene conteo de veces en el que se superó el límite de datos en los últimos 9 meses.\n",
        "\n",
        "10. Churn (target): si cliente cancela servicio (1).\n",
        "\n",
        "Fuente: https://www.kaggle.com/mehmetsabrikunt/internet-service-churn/metadata\n"
      ],
      "metadata": {
        "id": "k3J7Hkrob8_8"
      }
    },
    {
      "cell_type": "code",
      "execution_count": 4,
      "metadata": {
        "id": "KjAa2iT8Z6gP"
      },
      "outputs": [],
      "source": [
        "# Importamos librerias a utilizar\n",
        "import os\n",
        "import pandas as pd\n",
        "import numpy as np\n",
        "import sklearn\n",
        "\n",
        "import seaborn as sns\n",
        "import matplotlib.pyplot as plt"
      ]
    },
    {
      "cell_type": "code",
      "source": [
        "# Habilitamos conexión a nuestro repositorio en Drive\n",
        "from google.colab import drive\n",
        "drive.mount('/content/drive')"
      ],
      "metadata": {
        "colab": {
          "base_uri": "https://localhost:8080/"
        },
        "id": "Fc_nYqjkaEOI",
        "outputId": "80c5d3b4-74e9-4d43-be9d-e778470331d5"
      },
      "execution_count": 5,
      "outputs": [
        {
          "output_type": "stream",
          "name": "stdout",
          "text": [
            "Mounted at /content/drive\n"
          ]
        }
      ]
    },
    {
      "cell_type": "code",
      "source": [
        "# Cargar nuestro dataset\n",
        "df = pd.read_csv('/content/drive/MyDrive/Python/Churn Internet Service/internet_service_churn.csv')"
      ],
      "metadata": {
        "id": "5sz50rrFaIEd"
      },
      "execution_count": 6,
      "outputs": []
    },
    {
      "cell_type": "code",
      "source": [
        "# Damos una vista rápida del dataset\n",
        "df.head()"
      ],
      "metadata": {
        "colab": {
          "base_uri": "https://localhost:8080/",
          "height": 268
        },
        "id": "uMLan4h8aW6C",
        "outputId": "745d04e8-ca14-4c60-a2de-4c6bc5fc5c8d"
      },
      "execution_count": 7,
      "outputs": [
        {
          "output_type": "execute_result",
          "data": {
            "text/plain": [
              "   id  is_tv_subscriber  is_movie_package_subscriber  subscription_age  \\\n",
              "0  15                 1                            0             11.95   \n",
              "1  18                 0                            0              8.22   \n",
              "2  23                 1                            0              8.91   \n",
              "3  27                 0                            0              6.87   \n",
              "4  34                 0                            0              6.39   \n",
              "\n",
              "   bill_avg  reamining_contract  service_failure_count  download_avg  \\\n",
              "0        25                0.14                      0           8.4   \n",
              "1         0                 NaN                      0           0.0   \n",
              "2        16                0.00                      0          13.7   \n",
              "3        21                 NaN                      1           0.0   \n",
              "4         0                 NaN                      0           0.0   \n",
              "\n",
              "   upload_avg  download_over_limit  churn  \n",
              "0         2.3                    0      0  \n",
              "1         0.0                    0      1  \n",
              "2         0.9                    0      1  \n",
              "3         0.0                    0      1  \n",
              "4         0.0                    0      1  "
            ],
            "text/html": [
              "\n",
              "  <div id=\"df-5f5e8fff-c632-4f27-b3b5-0c9e024e02c3\">\n",
              "    <div class=\"colab-df-container\">\n",
              "      <div>\n",
              "<style scoped>\n",
              "    .dataframe tbody tr th:only-of-type {\n",
              "        vertical-align: middle;\n",
              "    }\n",
              "\n",
              "    .dataframe tbody tr th {\n",
              "        vertical-align: top;\n",
              "    }\n",
              "\n",
              "    .dataframe thead th {\n",
              "        text-align: right;\n",
              "    }\n",
              "</style>\n",
              "<table border=\"1\" class=\"dataframe\">\n",
              "  <thead>\n",
              "    <tr style=\"text-align: right;\">\n",
              "      <th></th>\n",
              "      <th>id</th>\n",
              "      <th>is_tv_subscriber</th>\n",
              "      <th>is_movie_package_subscriber</th>\n",
              "      <th>subscription_age</th>\n",
              "      <th>bill_avg</th>\n",
              "      <th>reamining_contract</th>\n",
              "      <th>service_failure_count</th>\n",
              "      <th>download_avg</th>\n",
              "      <th>upload_avg</th>\n",
              "      <th>download_over_limit</th>\n",
              "      <th>churn</th>\n",
              "    </tr>\n",
              "  </thead>\n",
              "  <tbody>\n",
              "    <tr>\n",
              "      <th>0</th>\n",
              "      <td>15</td>\n",
              "      <td>1</td>\n",
              "      <td>0</td>\n",
              "      <td>11.95</td>\n",
              "      <td>25</td>\n",
              "      <td>0.14</td>\n",
              "      <td>0</td>\n",
              "      <td>8.4</td>\n",
              "      <td>2.3</td>\n",
              "      <td>0</td>\n",
              "      <td>0</td>\n",
              "    </tr>\n",
              "    <tr>\n",
              "      <th>1</th>\n",
              "      <td>18</td>\n",
              "      <td>0</td>\n",
              "      <td>0</td>\n",
              "      <td>8.22</td>\n",
              "      <td>0</td>\n",
              "      <td>NaN</td>\n",
              "      <td>0</td>\n",
              "      <td>0.0</td>\n",
              "      <td>0.0</td>\n",
              "      <td>0</td>\n",
              "      <td>1</td>\n",
              "    </tr>\n",
              "    <tr>\n",
              "      <th>2</th>\n",
              "      <td>23</td>\n",
              "      <td>1</td>\n",
              "      <td>0</td>\n",
              "      <td>8.91</td>\n",
              "      <td>16</td>\n",
              "      <td>0.00</td>\n",
              "      <td>0</td>\n",
              "      <td>13.7</td>\n",
              "      <td>0.9</td>\n",
              "      <td>0</td>\n",
              "      <td>1</td>\n",
              "    </tr>\n",
              "    <tr>\n",
              "      <th>3</th>\n",
              "      <td>27</td>\n",
              "      <td>0</td>\n",
              "      <td>0</td>\n",
              "      <td>6.87</td>\n",
              "      <td>21</td>\n",
              "      <td>NaN</td>\n",
              "      <td>1</td>\n",
              "      <td>0.0</td>\n",
              "      <td>0.0</td>\n",
              "      <td>0</td>\n",
              "      <td>1</td>\n",
              "    </tr>\n",
              "    <tr>\n",
              "      <th>4</th>\n",
              "      <td>34</td>\n",
              "      <td>0</td>\n",
              "      <td>0</td>\n",
              "      <td>6.39</td>\n",
              "      <td>0</td>\n",
              "      <td>NaN</td>\n",
              "      <td>0</td>\n",
              "      <td>0.0</td>\n",
              "      <td>0.0</td>\n",
              "      <td>0</td>\n",
              "      <td>1</td>\n",
              "    </tr>\n",
              "  </tbody>\n",
              "</table>\n",
              "</div>\n",
              "      <button class=\"colab-df-convert\" onclick=\"convertToInteractive('df-5f5e8fff-c632-4f27-b3b5-0c9e024e02c3')\"\n",
              "              title=\"Convert this dataframe to an interactive table.\"\n",
              "              style=\"display:none;\">\n",
              "        \n",
              "  <svg xmlns=\"http://www.w3.org/2000/svg\" height=\"24px\"viewBox=\"0 0 24 24\"\n",
              "       width=\"24px\">\n",
              "    <path d=\"M0 0h24v24H0V0z\" fill=\"none\"/>\n",
              "    <path d=\"M18.56 5.44l.94 2.06.94-2.06 2.06-.94-2.06-.94-.94-2.06-.94 2.06-2.06.94zm-11 1L8.5 8.5l.94-2.06 2.06-.94-2.06-.94L8.5 2.5l-.94 2.06-2.06.94zm10 10l.94 2.06.94-2.06 2.06-.94-2.06-.94-.94-2.06-.94 2.06-2.06.94z\"/><path d=\"M17.41 7.96l-1.37-1.37c-.4-.4-.92-.59-1.43-.59-.52 0-1.04.2-1.43.59L10.3 9.45l-7.72 7.72c-.78.78-.78 2.05 0 2.83L4 21.41c.39.39.9.59 1.41.59.51 0 1.02-.2 1.41-.59l7.78-7.78 2.81-2.81c.8-.78.8-2.07 0-2.86zM5.41 20L4 18.59l7.72-7.72 1.47 1.35L5.41 20z\"/>\n",
              "  </svg>\n",
              "      </button>\n",
              "      \n",
              "  <style>\n",
              "    .colab-df-container {\n",
              "      display:flex;\n",
              "      flex-wrap:wrap;\n",
              "      gap: 12px;\n",
              "    }\n",
              "\n",
              "    .colab-df-convert {\n",
              "      background-color: #E8F0FE;\n",
              "      border: none;\n",
              "      border-radius: 50%;\n",
              "      cursor: pointer;\n",
              "      display: none;\n",
              "      fill: #1967D2;\n",
              "      height: 32px;\n",
              "      padding: 0 0 0 0;\n",
              "      width: 32px;\n",
              "    }\n",
              "\n",
              "    .colab-df-convert:hover {\n",
              "      background-color: #E2EBFA;\n",
              "      box-shadow: 0px 1px 2px rgba(60, 64, 67, 0.3), 0px 1px 3px 1px rgba(60, 64, 67, 0.15);\n",
              "      fill: #174EA6;\n",
              "    }\n",
              "\n",
              "    [theme=dark] .colab-df-convert {\n",
              "      background-color: #3B4455;\n",
              "      fill: #D2E3FC;\n",
              "    }\n",
              "\n",
              "    [theme=dark] .colab-df-convert:hover {\n",
              "      background-color: #434B5C;\n",
              "      box-shadow: 0px 1px 3px 1px rgba(0, 0, 0, 0.15);\n",
              "      filter: drop-shadow(0px 1px 2px rgba(0, 0, 0, 0.3));\n",
              "      fill: #FFFFFF;\n",
              "    }\n",
              "  </style>\n",
              "\n",
              "      <script>\n",
              "        const buttonEl =\n",
              "          document.querySelector('#df-5f5e8fff-c632-4f27-b3b5-0c9e024e02c3 button.colab-df-convert');\n",
              "        buttonEl.style.display =\n",
              "          google.colab.kernel.accessAllowed ? 'block' : 'none';\n",
              "\n",
              "        async function convertToInteractive(key) {\n",
              "          const element = document.querySelector('#df-5f5e8fff-c632-4f27-b3b5-0c9e024e02c3');\n",
              "          const dataTable =\n",
              "            await google.colab.kernel.invokeFunction('convertToInteractive',\n",
              "                                                     [key], {});\n",
              "          if (!dataTable) return;\n",
              "\n",
              "          const docLinkHtml = 'Like what you see? Visit the ' +\n",
              "            '<a target=\"_blank\" href=https://colab.research.google.com/notebooks/data_table.ipynb>data table notebook</a>'\n",
              "            + ' to learn more about interactive tables.';\n",
              "          element.innerHTML = '';\n",
              "          dataTable['output_type'] = 'display_data';\n",
              "          await google.colab.output.renderOutput(dataTable, element);\n",
              "          const docLink = document.createElement('div');\n",
              "          docLink.innerHTML = docLinkHtml;\n",
              "          element.appendChild(docLink);\n",
              "        }\n",
              "      </script>\n",
              "    </div>\n",
              "  </div>\n",
              "  "
            ]
          },
          "metadata": {},
          "execution_count": 7
        }
      ]
    },
    {
      "cell_type": "code",
      "source": [
        "# Validamos proporción de clientes que mantienen y dan de baja al servicio\n",
        "df['churn'].value_counts()"
      ],
      "metadata": {
        "id": "Yi8cCMKLaYpk",
        "colab": {
          "base_uri": "https://localhost:8080/"
        },
        "outputId": "bb1b2a23-fea7-478a-c088-2c914e0f3fff"
      },
      "execution_count": 8,
      "outputs": [
        {
          "output_type": "execute_result",
          "data": {
            "text/plain": [
              "1    40050\n",
              "0    32224\n",
              "Name: churn, dtype: int64"
            ]
          },
          "metadata": {},
          "execution_count": 8
        }
      ]
    },
    {
      "cell_type": "code",
      "source": [
        "churn = 40050\n",
        "nochurn = 32224\n",
        "z = churn + nochurn\n",
        "churn_percentage = churn/z*100\n",
        "nochurn_percentage = nochurn/z*100"
      ],
      "metadata": {
        "id": "3_QOq62ZkaWs"
      },
      "execution_count": 9,
      "outputs": []
    },
    {
      "cell_type": "code",
      "source": [
        "print(f'El % de clientes que decide darse de baja es {churn_percentage}%')"
      ],
      "metadata": {
        "colab": {
          "base_uri": "https://localhost:8080/"
        },
        "id": "sXfF1IPlkomn",
        "outputId": "6a3030da-2036-4f0d-e296-cc2db68c63c2"
      },
      "execution_count": 10,
      "outputs": [
        {
          "output_type": "stream",
          "name": "stdout",
          "text": [
            "El % de clientes que decide darse de baja es 55.41411849351081%\n"
          ]
        }
      ]
    },
    {
      "cell_type": "code",
      "source": [
        "# Revisamos de manera general el total de features\n",
        "df.info()"
      ],
      "metadata": {
        "colab": {
          "base_uri": "https://localhost:8080/"
        },
        "id": "K2QZnPFzBF_5",
        "outputId": "27e96fda-c1e2-4db2-8119-a662921a2e90"
      },
      "execution_count": 11,
      "outputs": [
        {
          "output_type": "stream",
          "name": "stdout",
          "text": [
            "<class 'pandas.core.frame.DataFrame'>\n",
            "RangeIndex: 72274 entries, 0 to 72273\n",
            "Data columns (total 11 columns):\n",
            " #   Column                       Non-Null Count  Dtype  \n",
            "---  ------                       --------------  -----  \n",
            " 0   id                           72274 non-null  int64  \n",
            " 1   is_tv_subscriber             72274 non-null  int64  \n",
            " 2   is_movie_package_subscriber  72274 non-null  int64  \n",
            " 3   subscription_age             72274 non-null  float64\n",
            " 4   bill_avg                     72274 non-null  int64  \n",
            " 5   reamining_contract           50702 non-null  float64\n",
            " 6   service_failure_count        72274 non-null  int64  \n",
            " 7   download_avg                 71893 non-null  float64\n",
            " 8   upload_avg                   71893 non-null  float64\n",
            " 9   download_over_limit          72274 non-null  int64  \n",
            " 10  churn                        72274 non-null  int64  \n",
            "dtypes: float64(4), int64(7)\n",
            "memory usage: 6.1 MB\n"
          ]
        }
      ]
    },
    {
      "cell_type": "markdown",
      "source": [
        "La cantidad de registros en nuestro dataset es 72,274."
      ],
      "metadata": {
        "id": "FoC_7MJVmCdx"
      }
    },
    {
      "cell_type": "code",
      "source": [
        "# Validamos la cantidad de valores nulos\n",
        "df.isnull().sum()"
      ],
      "metadata": {
        "colab": {
          "base_uri": "https://localhost:8080/"
        },
        "id": "0ioYQC-LB2KF",
        "outputId": "0e79b097-fb9c-4101-9416-df28105dc266"
      },
      "execution_count": 12,
      "outputs": [
        {
          "output_type": "execute_result",
          "data": {
            "text/plain": [
              "id                                 0\n",
              "is_tv_subscriber                   0\n",
              "is_movie_package_subscriber        0\n",
              "subscription_age                   0\n",
              "bill_avg                           0\n",
              "reamining_contract             21572\n",
              "service_failure_count              0\n",
              "download_avg                     381\n",
              "upload_avg                       381\n",
              "download_over_limit                0\n",
              "churn                              0\n",
              "dtype: int64"
            ]
          },
          "metadata": {},
          "execution_count": 12
        }
      ]
    },
    {
      "cell_type": "markdown",
      "source": [
        "# EDA (Análisis explotario de los datos)"
      ],
      "metadata": {
        "id": "cL1oR4a5qscE"
      }
    },
    {
      "cell_type": "code",
      "source": [
        "df.describe()"
      ],
      "metadata": {
        "colab": {
          "base_uri": "https://localhost:8080/",
          "height": 361
        },
        "id": "-lYVPOsWo7yz",
        "outputId": "5433a9a0-26fe-440c-e034-2c7f09e22ff6"
      },
      "execution_count": 14,
      "outputs": [
        {
          "output_type": "execute_result",
          "data": {
            "text/plain": [
              "                 id  is_tv_subscriber  is_movie_package_subscriber  \\\n",
              "count  7.227400e+04      72274.000000                 72274.000000   \n",
              "mean   8.463182e+05          0.815259                     0.334629   \n",
              "std    4.891022e+05          0.388090                     0.471864   \n",
              "min    1.500000e+01          0.000000                     0.000000   \n",
              "25%    4.222165e+05          1.000000                     0.000000   \n",
              "50%    8.477840e+05          1.000000                     0.000000   \n",
              "75%    1.269562e+06          1.000000                     1.000000   \n",
              "max    1.689744e+06          1.000000                     1.000000   \n",
              "\n",
              "       subscription_age      bill_avg  reamining_contract  \\\n",
              "count      72274.000000  72274.000000        50702.000000   \n",
              "mean           2.450051     18.942483            0.716039   \n",
              "std            2.034990     13.215386            0.697102   \n",
              "min           -0.020000      0.000000            0.000000   \n",
              "25%            0.930000     13.000000            0.000000   \n",
              "50%            1.980000     19.000000            0.570000   \n",
              "75%            3.300000     22.000000            1.310000   \n",
              "max           12.800000    406.000000            2.920000   \n",
              "\n",
              "       service_failure_count  download_avg    upload_avg  download_over_limit  \\\n",
              "count           72274.000000  71893.000000  71893.000000         72274.000000   \n",
              "mean                0.274234     43.689911      4.192076             0.207613   \n",
              "std                 0.816621     63.405963      9.818896             0.997123   \n",
              "min                 0.000000      0.000000      0.000000             0.000000   \n",
              "25%                 0.000000      6.700000      0.500000             0.000000   \n",
              "50%                 0.000000     27.800000      2.100000             0.000000   \n",
              "75%                 0.000000     60.500000      4.800000             0.000000   \n",
              "max                19.000000   4415.200000    453.300000             7.000000   \n",
              "\n",
              "              churn  \n",
              "count  72274.000000  \n",
              "mean       0.554141  \n",
              "std        0.497064  \n",
              "min        0.000000  \n",
              "25%        0.000000  \n",
              "50%        1.000000  \n",
              "75%        1.000000  \n",
              "max        1.000000  "
            ],
            "text/html": [
              "\n",
              "  <div id=\"df-d7f6b95e-34c8-41d0-b4ce-b1295656eddb\">\n",
              "    <div class=\"colab-df-container\">\n",
              "      <div>\n",
              "<style scoped>\n",
              "    .dataframe tbody tr th:only-of-type {\n",
              "        vertical-align: middle;\n",
              "    }\n",
              "\n",
              "    .dataframe tbody tr th {\n",
              "        vertical-align: top;\n",
              "    }\n",
              "\n",
              "    .dataframe thead th {\n",
              "        text-align: right;\n",
              "    }\n",
              "</style>\n",
              "<table border=\"1\" class=\"dataframe\">\n",
              "  <thead>\n",
              "    <tr style=\"text-align: right;\">\n",
              "      <th></th>\n",
              "      <th>id</th>\n",
              "      <th>is_tv_subscriber</th>\n",
              "      <th>is_movie_package_subscriber</th>\n",
              "      <th>subscription_age</th>\n",
              "      <th>bill_avg</th>\n",
              "      <th>reamining_contract</th>\n",
              "      <th>service_failure_count</th>\n",
              "      <th>download_avg</th>\n",
              "      <th>upload_avg</th>\n",
              "      <th>download_over_limit</th>\n",
              "      <th>churn</th>\n",
              "    </tr>\n",
              "  </thead>\n",
              "  <tbody>\n",
              "    <tr>\n",
              "      <th>count</th>\n",
              "      <td>7.227400e+04</td>\n",
              "      <td>72274.000000</td>\n",
              "      <td>72274.000000</td>\n",
              "      <td>72274.000000</td>\n",
              "      <td>72274.000000</td>\n",
              "      <td>50702.000000</td>\n",
              "      <td>72274.000000</td>\n",
              "      <td>71893.000000</td>\n",
              "      <td>71893.000000</td>\n",
              "      <td>72274.000000</td>\n",
              "      <td>72274.000000</td>\n",
              "    </tr>\n",
              "    <tr>\n",
              "      <th>mean</th>\n",
              "      <td>8.463182e+05</td>\n",
              "      <td>0.815259</td>\n",
              "      <td>0.334629</td>\n",
              "      <td>2.450051</td>\n",
              "      <td>18.942483</td>\n",
              "      <td>0.716039</td>\n",
              "      <td>0.274234</td>\n",
              "      <td>43.689911</td>\n",
              "      <td>4.192076</td>\n",
              "      <td>0.207613</td>\n",
              "      <td>0.554141</td>\n",
              "    </tr>\n",
              "    <tr>\n",
              "      <th>std</th>\n",
              "      <td>4.891022e+05</td>\n",
              "      <td>0.388090</td>\n",
              "      <td>0.471864</td>\n",
              "      <td>2.034990</td>\n",
              "      <td>13.215386</td>\n",
              "      <td>0.697102</td>\n",
              "      <td>0.816621</td>\n",
              "      <td>63.405963</td>\n",
              "      <td>9.818896</td>\n",
              "      <td>0.997123</td>\n",
              "      <td>0.497064</td>\n",
              "    </tr>\n",
              "    <tr>\n",
              "      <th>min</th>\n",
              "      <td>1.500000e+01</td>\n",
              "      <td>0.000000</td>\n",
              "      <td>0.000000</td>\n",
              "      <td>-0.020000</td>\n",
              "      <td>0.000000</td>\n",
              "      <td>0.000000</td>\n",
              "      <td>0.000000</td>\n",
              "      <td>0.000000</td>\n",
              "      <td>0.000000</td>\n",
              "      <td>0.000000</td>\n",
              "      <td>0.000000</td>\n",
              "    </tr>\n",
              "    <tr>\n",
              "      <th>25%</th>\n",
              "      <td>4.222165e+05</td>\n",
              "      <td>1.000000</td>\n",
              "      <td>0.000000</td>\n",
              "      <td>0.930000</td>\n",
              "      <td>13.000000</td>\n",
              "      <td>0.000000</td>\n",
              "      <td>0.000000</td>\n",
              "      <td>6.700000</td>\n",
              "      <td>0.500000</td>\n",
              "      <td>0.000000</td>\n",
              "      <td>0.000000</td>\n",
              "    </tr>\n",
              "    <tr>\n",
              "      <th>50%</th>\n",
              "      <td>8.477840e+05</td>\n",
              "      <td>1.000000</td>\n",
              "      <td>0.000000</td>\n",
              "      <td>1.980000</td>\n",
              "      <td>19.000000</td>\n",
              "      <td>0.570000</td>\n",
              "      <td>0.000000</td>\n",
              "      <td>27.800000</td>\n",
              "      <td>2.100000</td>\n",
              "      <td>0.000000</td>\n",
              "      <td>1.000000</td>\n",
              "    </tr>\n",
              "    <tr>\n",
              "      <th>75%</th>\n",
              "      <td>1.269562e+06</td>\n",
              "      <td>1.000000</td>\n",
              "      <td>1.000000</td>\n",
              "      <td>3.300000</td>\n",
              "      <td>22.000000</td>\n",
              "      <td>1.310000</td>\n",
              "      <td>0.000000</td>\n",
              "      <td>60.500000</td>\n",
              "      <td>4.800000</td>\n",
              "      <td>0.000000</td>\n",
              "      <td>1.000000</td>\n",
              "    </tr>\n",
              "    <tr>\n",
              "      <th>max</th>\n",
              "      <td>1.689744e+06</td>\n",
              "      <td>1.000000</td>\n",
              "      <td>1.000000</td>\n",
              "      <td>12.800000</td>\n",
              "      <td>406.000000</td>\n",
              "      <td>2.920000</td>\n",
              "      <td>19.000000</td>\n",
              "      <td>4415.200000</td>\n",
              "      <td>453.300000</td>\n",
              "      <td>7.000000</td>\n",
              "      <td>1.000000</td>\n",
              "    </tr>\n",
              "  </tbody>\n",
              "</table>\n",
              "</div>\n",
              "      <button class=\"colab-df-convert\" onclick=\"convertToInteractive('df-d7f6b95e-34c8-41d0-b4ce-b1295656eddb')\"\n",
              "              title=\"Convert this dataframe to an interactive table.\"\n",
              "              style=\"display:none;\">\n",
              "        \n",
              "  <svg xmlns=\"http://www.w3.org/2000/svg\" height=\"24px\"viewBox=\"0 0 24 24\"\n",
              "       width=\"24px\">\n",
              "    <path d=\"M0 0h24v24H0V0z\" fill=\"none\"/>\n",
              "    <path d=\"M18.56 5.44l.94 2.06.94-2.06 2.06-.94-2.06-.94-.94-2.06-.94 2.06-2.06.94zm-11 1L8.5 8.5l.94-2.06 2.06-.94-2.06-.94L8.5 2.5l-.94 2.06-2.06.94zm10 10l.94 2.06.94-2.06 2.06-.94-2.06-.94-.94-2.06-.94 2.06-2.06.94z\"/><path d=\"M17.41 7.96l-1.37-1.37c-.4-.4-.92-.59-1.43-.59-.52 0-1.04.2-1.43.59L10.3 9.45l-7.72 7.72c-.78.78-.78 2.05 0 2.83L4 21.41c.39.39.9.59 1.41.59.51 0 1.02-.2 1.41-.59l7.78-7.78 2.81-2.81c.8-.78.8-2.07 0-2.86zM5.41 20L4 18.59l7.72-7.72 1.47 1.35L5.41 20z\"/>\n",
              "  </svg>\n",
              "      </button>\n",
              "      \n",
              "  <style>\n",
              "    .colab-df-container {\n",
              "      display:flex;\n",
              "      flex-wrap:wrap;\n",
              "      gap: 12px;\n",
              "    }\n",
              "\n",
              "    .colab-df-convert {\n",
              "      background-color: #E8F0FE;\n",
              "      border: none;\n",
              "      border-radius: 50%;\n",
              "      cursor: pointer;\n",
              "      display: none;\n",
              "      fill: #1967D2;\n",
              "      height: 32px;\n",
              "      padding: 0 0 0 0;\n",
              "      width: 32px;\n",
              "    }\n",
              "\n",
              "    .colab-df-convert:hover {\n",
              "      background-color: #E2EBFA;\n",
              "      box-shadow: 0px 1px 2px rgba(60, 64, 67, 0.3), 0px 1px 3px 1px rgba(60, 64, 67, 0.15);\n",
              "      fill: #174EA6;\n",
              "    }\n",
              "\n",
              "    [theme=dark] .colab-df-convert {\n",
              "      background-color: #3B4455;\n",
              "      fill: #D2E3FC;\n",
              "    }\n",
              "\n",
              "    [theme=dark] .colab-df-convert:hover {\n",
              "      background-color: #434B5C;\n",
              "      box-shadow: 0px 1px 3px 1px rgba(0, 0, 0, 0.15);\n",
              "      filter: drop-shadow(0px 1px 2px rgba(0, 0, 0, 0.3));\n",
              "      fill: #FFFFFF;\n",
              "    }\n",
              "  </style>\n",
              "\n",
              "      <script>\n",
              "        const buttonEl =\n",
              "          document.querySelector('#df-d7f6b95e-34c8-41d0-b4ce-b1295656eddb button.colab-df-convert');\n",
              "        buttonEl.style.display =\n",
              "          google.colab.kernel.accessAllowed ? 'block' : 'none';\n",
              "\n",
              "        async function convertToInteractive(key) {\n",
              "          const element = document.querySelector('#df-d7f6b95e-34c8-41d0-b4ce-b1295656eddb');\n",
              "          const dataTable =\n",
              "            await google.colab.kernel.invokeFunction('convertToInteractive',\n",
              "                                                     [key], {});\n",
              "          if (!dataTable) return;\n",
              "\n",
              "          const docLinkHtml = 'Like what you see? Visit the ' +\n",
              "            '<a target=\"_blank\" href=https://colab.research.google.com/notebooks/data_table.ipynb>data table notebook</a>'\n",
              "            + ' to learn more about interactive tables.';\n",
              "          element.innerHTML = '';\n",
              "          dataTable['output_type'] = 'display_data';\n",
              "          await google.colab.output.renderOutput(dataTable, element);\n",
              "          const docLink = document.createElement('div');\n",
              "          docLink.innerHTML = docLinkHtml;\n",
              "          element.appendChild(docLink);\n",
              "        }\n",
              "      </script>\n",
              "    </div>\n",
              "  </div>\n",
              "  "
            ]
          },
          "metadata": {},
          "execution_count": 14
        }
      ]
    },
    {
      "cell_type": "markdown",
      "source": [
        "- Por lo menos el 75% de clientes cuenta con una suscripción a TV.\n",
        "- Solo el 25% cuenta con suscripción a paquetes de películas.\n",
        "- El 50% de clientes tiene un contrato de alrededor de 2 años.\n",
        "- El 75% de clientes paga por debajo de $22 mensuales por el servicios.\n",
        "- Al 75% de los clientes que cuenta con contrato les queda 1 año para que este finalice.\n",
        "- Un cliente reportó fallas en su servicios hasta en 19 veces. \n",
        "- El 50% de clientes usa alrededor de 27 GB de manera mensual.\n",
        "- el 50% de clientes efectúa cargas a internet alrededor de 2.1 GB.\n",
        "- El 55% de clientes decide darse de baja."
      ],
      "metadata": {
        "id": "yEc8udClpnBY"
      }
    },
    {
      "cell_type": "code",
      "source": [
        "sns.histplot(data = df, x = 'is_tv_subscriber', hue = 'churn')"
      ],
      "metadata": {
        "colab": {
          "base_uri": "https://localhost:8080/",
          "height": 297
        },
        "id": "ny7Qu5lGpBh2",
        "outputId": "571797c1-10cc-4e6c-e540-aef3b7841bd7"
      },
      "execution_count": 13,
      "outputs": [
        {
          "output_type": "execute_result",
          "data": {
            "text/plain": [
              "<matplotlib.axes._subplots.AxesSubplot at 0x7fe0c5b6b6a0>"
            ]
          },
          "metadata": {},
          "execution_count": 13
        },
        {
          "output_type": "display_data",
          "data": {
            "text/plain": [
              "<Figure size 432x288 with 1 Axes>"
            ],
            "image/png": "[encoded data removed]"
          },
          "metadata": {
            "needs_background": "light"
          }
        }
      ]
    },
    {
      "cell_type": "markdown",
      "source": [
        "Existen más clientes con una suscripción de TV, sin embargo la proporción de cleitnes que deciden darse de baja es similar. Aquellos clientes que no cuentan con una suscripción de TV suelen no irse."
      ],
      "metadata": {
        "id": "Yb_-PQuEycJu"
      }
    },
    {
      "cell_type": "code",
      "source": [
        "sns.histplot(data = df, x = 'is_movie_package_subscriber', hue = 'churn')"
      ],
      "metadata": {
        "colab": {
          "base_uri": "https://localhost:8080/",
          "height": 297
        },
        "id": "1EsqVJm3q0-6",
        "outputId": "3c49054e-b3e8-426c-a55a-fbfc470fba1f"
      },
      "execution_count": 14,
      "outputs": [
        {
          "output_type": "execute_result",
          "data": {
            "text/plain": [
              "<matplotlib.axes._subplots.AxesSubplot at 0x7fe0c5576f40>"
            ]
          },
          "metadata": {},
          "execution_count": 14
        },
        {
          "output_type": "display_data",
          "data": {
            "text/plain": [
              "<Figure size 432x288 with 1 Axes>"
            ],
            "image/png": "[encoded data removed]"
          },
          "metadata": {
            "needs_background": "light"
          }
        }
      ]
    },
    {
      "cell_type": "markdown",
      "source": [
        "Existen más personas que no cuentan con una suscripción de streaming. La tercera parte de los que cuentan con una y los que no se dan de baja."
      ],
      "metadata": {
        "id": "_FwENMOOzVd4"
      }
    },
    {
      "cell_type": "code",
      "source": [
        "df.groupby('is_tv_subscriber')['is_movie_package_subscriber'].value_counts()"
      ],
      "metadata": {
        "colab": {
          "base_uri": "https://localhost:8080/"
        },
        "id": "WGaO4r1QvlYf",
        "outputId": "81dab2d3-8e10-44a2-c355-e8a180253288"
      },
      "execution_count": 15,
      "outputs": [
        {
          "output_type": "execute_result",
          "data": {
            "text/plain": [
              "is_tv_subscriber  is_movie_package_subscriber\n",
              "0                 0                              13350\n",
              "                  1                                  2\n",
              "1                 0                              34739\n",
              "                  1                              24183\n",
              "Name: is_movie_package_subscriber, dtype: int64"
            ]
          },
          "metadata": {},
          "execution_count": 15
        }
      ]
    },
    {
      "cell_type": "code",
      "source": [
        "df.groupby(['is_tv_subscriber', 'is_movie_package_subscriber'])[['churn']].agg(['sum'])"
      ],
      "metadata": {
        "colab": {
          "base_uri": "https://localhost:8080/",
          "height": 235
        },
        "id": "cDLDHuLE2rLt",
        "outputId": "89526b79-6dbf-425e-f6d2-21978b5d978a"
      },
      "execution_count": 16,
      "outputs": [
        {
          "output_type": "execute_result",
          "data": {
            "text/plain": [
              "                                              churn\n",
              "                                                sum\n",
              "is_tv_subscriber is_movie_package_subscriber       \n",
              "0                0                            11964\n",
              "                 1                                2\n",
              "1                0                            19891\n",
              "                 1                             8193"
            ],
            "text/html": [
              "\n",
              "  <div id=\"df-1245e607-a8a4-4875-ad22-494ec2dffec4\">\n",
              "    <div class=\"colab-df-container\">\n",
              "      <div>\n",
              "<style scoped>\n",
              "    .dataframe tbody tr th:only-of-type {\n",
              "        vertical-align: middle;\n",
              "    }\n",
              "\n",
              "    .dataframe tbody tr th {\n",
              "        vertical-align: top;\n",
              "    }\n",
              "\n",
              "    .dataframe thead tr th {\n",
              "        text-align: left;\n",
              "    }\n",
              "\n",
              "    .dataframe thead tr:last-of-type th {\n",
              "        text-align: right;\n",
              "    }\n",
              "</style>\n",
              "<table border=\"1\" class=\"dataframe\">\n",
              "  <thead>\n",
              "    <tr>\n",
              "      <th></th>\n",
              "      <th></th>\n",
              "      <th>churn</th>\n",
              "    </tr>\n",
              "    <tr>\n",
              "      <th></th>\n",
              "      <th></th>\n",
              "      <th>sum</th>\n",
              "    </tr>\n",
              "    <tr>\n",
              "      <th>is_tv_subscriber</th>\n",
              "      <th>is_movie_package_subscriber</th>\n",
              "      <th></th>\n",
              "    </tr>\n",
              "  </thead>\n",
              "  <tbody>\n",
              "    <tr>\n",
              "      <th rowspan=\"2\" valign=\"top\">0</th>\n",
              "      <th>0</th>\n",
              "      <td>11964</td>\n",
              "    </tr>\n",
              "    <tr>\n",
              "      <th>1</th>\n",
              "      <td>2</td>\n",
              "    </tr>\n",
              "    <tr>\n",
              "      <th rowspan=\"2\" valign=\"top\">1</th>\n",
              "      <th>0</th>\n",
              "      <td>19891</td>\n",
              "    </tr>\n",
              "    <tr>\n",
              "      <th>1</th>\n",
              "      <td>8193</td>\n",
              "    </tr>\n",
              "  </tbody>\n",
              "</table>\n",
              "</div>\n",
              "      <button class=\"colab-df-convert\" onclick=\"convertToInteractive('df-1245e607-a8a4-4875-ad22-494ec2dffec4')\"\n",
              "              title=\"Convert this dataframe to an interactive table.\"\n",
              "              style=\"display:none;\">\n",
              "        \n",
              "  <svg xmlns=\"http://www.w3.org/2000/svg\" height=\"24px\"viewBox=\"0 0 24 24\"\n",
              "       width=\"24px\">\n",
              "    <path d=\"M0 0h24v24H0V0z\" fill=\"none\"/>\n",
              "    <path d=\"M18.56 5.44l.94 2.06.94-2.06 2.06-.94-2.06-.94-.94-2.06-.94 2.06-2.06.94zm-11 1L8.5 8.5l.94-2.06 2.06-.94-2.06-.94L8.5 2.5l-.94 2.06-2.06.94zm10 10l.94 2.06.94-2.06 2.06-.94-2.06-.94-.94-2.06-.94 2.06-2.06.94z\"/><path d=\"M17.41 7.96l-1.37-1.37c-.4-.4-.92-.59-1.43-.59-.52 0-1.04.2-1.43.59L10.3 9.45l-7.72 7.72c-.78.78-.78 2.05 0 2.83L4 21.41c.39.39.9.59 1.41.59.51 0 1.02-.2 1.41-.59l7.78-7.78 2.81-2.81c.8-.78.8-2.07 0-2.86zM5.41 20L4 18.59l7.72-7.72 1.47 1.35L5.41 20z\"/>\n",
              "  </svg>\n",
              "      </button>\n",
              "      \n",
              "  <style>\n",
              "    .colab-df-container {\n",
              "      display:flex;\n",
              "      flex-wrap:wrap;\n",
              "      gap: 12px;\n",
              "    }\n",
              "\n",
              "    .colab-df-convert {\n",
              "      background-color: #E8F0FE;\n",
              "      border: none;\n",
              "      border-radius: 50%;\n",
              "      cursor: pointer;\n",
              "      display: none;\n",
              "      fill: #1967D2;\n",
              "      height: 32px;\n",
              "      padding: 0 0 0 0;\n",
              "      width: 32px;\n",
              "    }\n",
              "\n",
              "    .colab-df-convert:hover {\n",
              "      background-color: #E2EBFA;\n",
              "      box-shadow: 0px 1px 2px rgba(60, 64, 67, 0.3), 0px 1px 3px 1px rgba(60, 64, 67, 0.15);\n",
              "      fill: #174EA6;\n",
              "    }\n",
              "\n",
              "    [theme=dark] .colab-df-convert {\n",
              "      background-color: #3B4455;\n",
              "      fill: #D2E3FC;\n",
              "    }\n",
              "\n",
              "    [theme=dark] .colab-df-convert:hover {\n",
              "      background-color: #434B5C;\n",
              "      box-shadow: 0px 1px 3px 1px rgba(0, 0, 0, 0.15);\n",
              "      filter: drop-shadow(0px 1px 2px rgba(0, 0, 0, 0.3));\n",
              "      fill: #FFFFFF;\n",
              "    }\n",
              "  </style>\n",
              "\n",
              "      <script>\n",
              "        const buttonEl =\n",
              "          document.querySelector('#df-1245e607-a8a4-4875-ad22-494ec2dffec4 button.colab-df-convert');\n",
              "        buttonEl.style.display =\n",
              "          google.colab.kernel.accessAllowed ? 'block' : 'none';\n",
              "\n",
              "        async function convertToInteractive(key) {\n",
              "          const element = document.querySelector('#df-1245e607-a8a4-4875-ad22-494ec2dffec4');\n",
              "          const dataTable =\n",
              "            await google.colab.kernel.invokeFunction('convertToInteractive',\n",
              "                                                     [key], {});\n",
              "          if (!dataTable) return;\n",
              "\n",
              "          const docLinkHtml = 'Like what you see? Visit the ' +\n",
              "            '<a target=\"_blank\" href=https://colab.research.google.com/notebooks/data_table.ipynb>data table notebook</a>'\n",
              "            + ' to learn more about interactive tables.';\n",
              "          element.innerHTML = '';\n",
              "          dataTable['output_type'] = 'display_data';\n",
              "          await google.colab.output.renderOutput(dataTable, element);\n",
              "          const docLink = document.createElement('div');\n",
              "          docLink.innerHTML = docLinkHtml;\n",
              "          element.appendChild(docLink);\n",
              "        }\n",
              "      </script>\n",
              "    </div>\n",
              "  </div>\n",
              "  "
            ]
          },
          "metadata": {},
          "execution_count": 16
        }
      ]
    },
    {
      "cell_type": "code",
      "source": [
        "sns.boxplot(x=\"churn\",y=\"subscription_age\",data=df)\n",
        "plt.show() "
      ],
      "metadata": {
        "colab": {
          "base_uri": "https://localhost:8080/",
          "height": 279
        },
        "id": "KY4zU3eHrFkj",
        "outputId": "ee222c15-cbb1-46f7-eacc-3cda850c4ec4"
      },
      "execution_count": 17,
      "outputs": [
        {
          "output_type": "display_data",
          "data": {
            "text/plain": [
              "<Figure size 432x288 with 1 Axes>"
            ],
            "image/png": "[encoded data removed]"
          },
          "metadata": {
            "needs_background": "light"
          }
        }
      ]
    },
    {
      "cell_type": "code",
      "source": [
        "plt.figure(figsize = (10,6))\n",
        "sns.histplot(data=df, x='subscription_age', hue='churn', bins=80)\t\n",
        "plt.show()"
      ],
      "metadata": {
        "colab": {
          "base_uri": "https://localhost:8080/",
          "height": 389
        },
        "id": "r4wX22i08M9Z",
        "outputId": "8738e507-b3d4-4f9e-849c-538ae73e6cce"
      },
      "execution_count": 18,
      "outputs": [
        {
          "output_type": "display_data",
          "data": {
            "text/plain": [
              "<Figure size 720x432 with 1 Axes>"
            ],
            "image/png": "[encoded data removed]"
          },
          "metadata": {
            "needs_background": "light"
          }
        }
      ]
    },
    {
      "cell_type": "markdown",
      "source": [
        "Los clientes que no se dan de baja tienen una suscripción entre 1 a 4 años, y algunos casos atípicos por encima de 8 años. Los clientes que se dan de baja tienen suscripciones entre 1 a 3 años y por encima de 6 años."
      ],
      "metadata": {
        "id": "AFKcE3IXrbd4"
      }
    },
    {
      "cell_type": "code",
      "source": [
        "sns.boxplot(x=\"churn\",y=\"bill_avg\",data=df)\n",
        "plt.show() "
      ],
      "metadata": {
        "colab": {
          "base_uri": "https://localhost:8080/",
          "height": 279
        },
        "id": "btXNb7rr8frC",
        "outputId": "03364add-5e97-4f4e-e1e5-9394ed972682"
      },
      "execution_count": 19,
      "outputs": [
        {
          "output_type": "display_data",
          "data": {
            "text/plain": [
              "<Figure size 432x288 with 1 Axes>"
            ],
            "image/png": "[encoded data removed]"
          },
          "metadata": {
            "needs_background": "light"
          }
        }
      ]
    },
    {
      "cell_type": "code",
      "source": [
        "sns.histplot(data=df, x='bill_avg', hue='churn', bins=80)\t"
      ],
      "metadata": {
        "colab": {
          "base_uri": "https://localhost:8080/",
          "height": 297
        },
        "id": "U0YI4tPErS-E",
        "outputId": "260d174c-40e5-4fde-89c0-ca02eff99932"
      },
      "execution_count": 20,
      "outputs": [
        {
          "output_type": "execute_result",
          "data": {
            "text/plain": [
              "<matplotlib.axes._subplots.AxesSubplot at 0x7fe0c52560a0>"
            ]
          },
          "metadata": {},
          "execution_count": 20
        },
        {
          "output_type": "display_data",
          "data": {
            "text/plain": [
              "<Figure size 432x288 with 1 Axes>"
            ],
            "image/png": "[encoded data removed]"
          },
          "metadata": {
            "needs_background": "light"
          }
        }
      ]
    },
    {
      "cell_type": "markdown",
      "source": [
        "Aquellos clientes que tienen una cuota muy baja o muy alta tienen mayor probabilidad de irse. Aquellos que tienen una cuota promedio, suelen no darse de baja."
      ],
      "metadata": {
        "id": "9938alzCuDWY"
      }
    },
    {
      "cell_type": "code",
      "source": [
        "sns.histplot(data=df, x='reamining_contract', hue='churn')\t"
      ],
      "metadata": {
        "colab": {
          "base_uri": "https://localhost:8080/",
          "height": 297
        },
        "id": "ony4k0xNr_wS",
        "outputId": "74f4ba18-1212-4b17-e083-ad6b2fe7fd93"
      },
      "execution_count": 21,
      "outputs": [
        {
          "output_type": "execute_result",
          "data": {
            "text/plain": [
              "<matplotlib.axes._subplots.AxesSubplot at 0x7fe0c50131c0>"
            ]
          },
          "metadata": {},
          "execution_count": 21
        },
        {
          "output_type": "display_data",
          "data": {
            "text/plain": [
              "<Figure size 432x288 with 1 Axes>"
            ],
            "image/png": "[encoded data removed]"
          },
          "metadata": {
            "needs_background": "light"
          }
        }
      ]
    },
    {
      "cell_type": "markdown",
      "source": [
        "Aquellos clientes que no tienen contrato son los que suelen darse de baja. Animar a los clientes a firmar contratos de permanencia nos ayudará a reducir el churn."
      ],
      "metadata": {
        "id": "1YgNIcE_ucX2"
      }
    },
    {
      "cell_type": "code",
      "source": [
        "sns.histplot(data=df, x='service_failure_count', hue='churn', bins=50)\t"
      ],
      "metadata": {
        "colab": {
          "base_uri": "https://localhost:8080/",
          "height": 301
        },
        "id": "-HhB8joguSZ2",
        "outputId": "08192987-2aeb-4c41-94d7-96aeff56bcb7"
      },
      "execution_count": 22,
      "outputs": [
        {
          "output_type": "execute_result",
          "data": {
            "text/plain": [
              "<matplotlib.axes._subplots.AxesSubplot at 0x7fe0c4ed3d00>"
            ]
          },
          "metadata": {},
          "execution_count": 22
        },
        {
          "output_type": "display_data",
          "data": {
            "text/plain": [
              "<Figure size 432x288 with 1 Axes>"
            ],
            "image/png": "[encoded data removed]"
          },
          "metadata": {
            "needs_background": "light"
          }
        }
      ]
    },
    {
      "cell_type": "code",
      "source": [
        "sns.histplot(data=df, x='download_avg', hue='churn', bins=50)\t"
      ],
      "metadata": {
        "colab": {
          "base_uri": "https://localhost:8080/",
          "height": 297
        },
        "id": "pit7z8ZZvbxD",
        "outputId": "f87a44bb-ec55-481f-a092-2841da71c418"
      },
      "execution_count": 23,
      "outputs": [
        {
          "output_type": "execute_result",
          "data": {
            "text/plain": [
              "<matplotlib.axes._subplots.AxesSubplot at 0x7fe0c4f9bd00>"
            ]
          },
          "metadata": {},
          "execution_count": 23
        },
        {
          "output_type": "display_data",
          "data": {
            "text/plain": [
              "<Figure size 432x288 with 1 Axes>"
            ],
            "image/png": "[encoded data removed]"
          },
          "metadata": {
            "needs_background": "light"
          }
        }
      ]
    },
    {
      "cell_type": "code",
      "source": [
        "sns.histplot(data=df, x='upload_avg', hue='churn', bins=50)"
      ],
      "metadata": {
        "colab": {
          "base_uri": "https://localhost:8080/",
          "height": 297
        },
        "id": "dCXfHk34vHuh",
        "outputId": "90f50b39-d17e-4ce7-fc64-4d664c805e78"
      },
      "execution_count": 24,
      "outputs": [
        {
          "output_type": "execute_result",
          "data": {
            "text/plain": [
              "<matplotlib.axes._subplots.AxesSubplot at 0x7fe0c4f22970>"
            ]
          },
          "metadata": {},
          "execution_count": 24
        },
        {
          "output_type": "display_data",
          "data": {
            "text/plain": [
              "<Figure size 432x288 with 1 Axes>"
            ],
            "image/png": "[encoded data removed]"
          },
          "metadata": {
            "needs_background": "light"
          }
        }
      ]
    },
    {
      "cell_type": "code",
      "source": [
        "sns.histplot(data=df, x='download_over_limit', hue='churn', bins=50)"
      ],
      "metadata": {
        "id": "UA4H5vClvhsw",
        "colab": {
          "base_uri": "https://localhost:8080/",
          "height": 297
        },
        "outputId": "4d801bdf-7a7b-4b6b-c4e4-93fe6a5c1f0b"
      },
      "execution_count": 25,
      "outputs": [
        {
          "output_type": "execute_result",
          "data": {
            "text/plain": [
              "<matplotlib.axes._subplots.AxesSubplot at 0x7fe0c54615e0>"
            ]
          },
          "metadata": {},
          "execution_count": 25
        },
        {
          "output_type": "display_data",
          "data": {
            "text/plain": [
              "<Figure size 432x288 with 1 Axes>"
            ],
            "image/png": "[encoded data removed]"
          },
          "metadata": {
            "needs_background": "light"
          }
        }
      ]
    },
    {
      "cell_type": "code",
      "source": [
        "# Agrupamos aquellos clientes que se dan de baja y aquellos que no con los promedio de todas los feature\n",
        "df.groupby('churn').mean()"
      ],
      "metadata": {
        "colab": {
          "base_uri": "https://localhost:8080/",
          "height": 206
        },
        "id": "iH0A1VWvlQzM",
        "outputId": "552c5ec7-d99f-49f5-d2ec-62eec294a2cc"
      },
      "execution_count": 26,
      "outputs": [
        {
          "output_type": "execute_result",
          "data": {
            "text/plain": [
              "                 id  is_tv_subscriber  is_movie_package_subscriber  \\\n",
              "churn                                                                \n",
              "0      1.092310e+06          0.956989                     0.496214   \n",
              "1      6.483943e+05          0.701223                     0.204619   \n",
              "\n",
              "       subscription_age   bill_avg  reamining_contract  service_failure_count  \\\n",
              "churn                                                                           \n",
              "0              2.727828  19.252731            1.072765               0.254593   \n",
              "1              2.226554  18.692859            0.183152               0.290037   \n",
              "\n",
              "       download_avg  upload_avg  download_over_limit  \n",
              "churn                                                 \n",
              "0         64.884728    5.983563             0.031622  \n",
              "1         26.838312    2.767698             0.349213  "
            ],
            "text/html": [
              "\n",
              "  <div id=\"df-9e969d55-6b90-4cfc-abd9-56903b73830a\">\n",
              "    <div class=\"colab-df-container\">\n",
              "      <div>\n",
              "<style scoped>\n",
              "    .dataframe tbody tr th:only-of-type {\n",
              "        vertical-align: middle;\n",
              "    }\n",
              "\n",
              "    .dataframe tbody tr th {\n",
              "        vertical-align: top;\n",
              "    }\n",
              "\n",
              "    .dataframe thead th {\n",
              "        text-align: right;\n",
              "    }\n",
              "</style>\n",
              "<table border=\"1\" class=\"dataframe\">\n",
              "  <thead>\n",
              "    <tr style=\"text-align: right;\">\n",
              "      <th></th>\n",
              "      <th>id</th>\n",
              "      <th>is_tv_subscriber</th>\n",
              "      <th>is_movie_package_subscriber</th>\n",
              "      <th>subscription_age</th>\n",
              "      <th>bill_avg</th>\n",
              "      <th>reamining_contract</th>\n",
              "      <th>service_failure_count</th>\n",
              "      <th>download_avg</th>\n",
              "      <th>upload_avg</th>\n",
              "      <th>download_over_limit</th>\n",
              "    </tr>\n",
              "    <tr>\n",
              "      <th>churn</th>\n",
              "      <th></th>\n",
              "      <th></th>\n",
              "      <th></th>\n",
              "      <th></th>\n",
              "      <th></th>\n",
              "      <th></th>\n",
              "      <th></th>\n",
              "      <th></th>\n",
              "      <th></th>\n",
              "      <th></th>\n",
              "    </tr>\n",
              "  </thead>\n",
              "  <tbody>\n",
              "    <tr>\n",
              "      <th>0</th>\n",
              "      <td>1.092310e+06</td>\n",
              "      <td>0.956989</td>\n",
              "      <td>0.496214</td>\n",
              "      <td>2.727828</td>\n",
              "      <td>19.252731</td>\n",
              "      <td>1.072765</td>\n",
              "      <td>0.254593</td>\n",
              "      <td>64.884728</td>\n",
              "      <td>5.983563</td>\n",
              "      <td>0.031622</td>\n",
              "    </tr>\n",
              "    <tr>\n",
              "      <th>1</th>\n",
              "      <td>6.483943e+05</td>\n",
              "      <td>0.701223</td>\n",
              "      <td>0.204619</td>\n",
              "      <td>2.226554</td>\n",
              "      <td>18.692859</td>\n",
              "      <td>0.183152</td>\n",
              "      <td>0.290037</td>\n",
              "      <td>26.838312</td>\n",
              "      <td>2.767698</td>\n",
              "      <td>0.349213</td>\n",
              "    </tr>\n",
              "  </tbody>\n",
              "</table>\n",
              "</div>\n",
              "      <button class=\"colab-df-convert\" onclick=\"convertToInteractive('df-9e969d55-6b90-4cfc-abd9-56903b73830a')\"\n",
              "              title=\"Convert this dataframe to an interactive table.\"\n",
              "              style=\"display:none;\">\n",
              "        \n",
              "  <svg xmlns=\"http://www.w3.org/2000/svg\" height=\"24px\"viewBox=\"0 0 24 24\"\n",
              "       width=\"24px\">\n",
              "    <path d=\"M0 0h24v24H0V0z\" fill=\"none\"/>\n",
              "    <path d=\"M18.56 5.44l.94 2.06.94-2.06 2.06-.94-2.06-.94-.94-2.06-.94 2.06-2.06.94zm-11 1L8.5 8.5l.94-2.06 2.06-.94-2.06-.94L8.5 2.5l-.94 2.06-2.06.94zm10 10l.94 2.06.94-2.06 2.06-.94-2.06-.94-.94-2.06-.94 2.06-2.06.94z\"/><path d=\"M17.41 7.96l-1.37-1.37c-.4-.4-.92-.59-1.43-.59-.52 0-1.04.2-1.43.59L10.3 9.45l-7.72 7.72c-.78.78-.78 2.05 0 2.83L4 21.41c.39.39.9.59 1.41.59.51 0 1.02-.2 1.41-.59l7.78-7.78 2.81-2.81c.8-.78.8-2.07 0-2.86zM5.41 20L4 18.59l7.72-7.72 1.47 1.35L5.41 20z\"/>\n",
              "  </svg>\n",
              "      </button>\n",
              "      \n",
              "  <style>\n",
              "    .colab-df-container {\n",
              "      display:flex;\n",
              "      flex-wrap:wrap;\n",
              "      gap: 12px;\n",
              "    }\n",
              "\n",
              "    .colab-df-convert {\n",
              "      background-color: #E8F0FE;\n",
              "      border: none;\n",
              "      border-radius: 50%;\n",
              "      cursor: pointer;\n",
              "      display: none;\n",
              "      fill: #1967D2;\n",
              "      height: 32px;\n",
              "      padding: 0 0 0 0;\n",
              "      width: 32px;\n",
              "    }\n",
              "\n",
              "    .colab-df-convert:hover {\n",
              "      background-color: #E2EBFA;\n",
              "      box-shadow: 0px 1px 2px rgba(60, 64, 67, 0.3), 0px 1px 3px 1px rgba(60, 64, 67, 0.15);\n",
              "      fill: #174EA6;\n",
              "    }\n",
              "\n",
              "    [theme=dark] .colab-df-convert {\n",
              "      background-color: #3B4455;\n",
              "      fill: #D2E3FC;\n",
              "    }\n",
              "\n",
              "    [theme=dark] .colab-df-convert:hover {\n",
              "      background-color: #434B5C;\n",
              "      box-shadow: 0px 1px 3px 1px rgba(0, 0, 0, 0.15);\n",
              "      filter: drop-shadow(0px 1px 2px rgba(0, 0, 0, 0.3));\n",
              "      fill: #FFFFFF;\n",
              "    }\n",
              "  </style>\n",
              "\n",
              "      <script>\n",
              "        const buttonEl =\n",
              "          document.querySelector('#df-9e969d55-6b90-4cfc-abd9-56903b73830a button.colab-df-convert');\n",
              "        buttonEl.style.display =\n",
              "          google.colab.kernel.accessAllowed ? 'block' : 'none';\n",
              "\n",
              "        async function convertToInteractive(key) {\n",
              "          const element = document.querySelector('#df-9e969d55-6b90-4cfc-abd9-56903b73830a');\n",
              "          const dataTable =\n",
              "            await google.colab.kernel.invokeFunction('convertToInteractive',\n",
              "                                                     [key], {});\n",
              "          if (!dataTable) return;\n",
              "\n",
              "          const docLinkHtml = 'Like what you see? Visit the ' +\n",
              "            '<a target=\"_blank\" href=https://colab.research.google.com/notebooks/data_table.ipynb>data table notebook</a>'\n",
              "            + ' to learn more about interactive tables.';\n",
              "          element.innerHTML = '';\n",
              "          dataTable['output_type'] = 'display_data';\n",
              "          await google.colab.output.renderOutput(dataTable, element);\n",
              "          const docLink = document.createElement('div');\n",
              "          docLink.innerHTML = docLinkHtml;\n",
              "          element.appendChild(docLink);\n",
              "        }\n",
              "      </script>\n",
              "    </div>\n",
              "  </div>\n",
              "  "
            ]
          },
          "metadata": {},
          "execution_count": 26
        }
      ]
    },
    {
      "cell_type": "markdown",
      "source": [
        "Aquellos clientes que deciden darse de baja usan menos los datos, tanto para navegar o cargar información. Sin embargo, superan el límite de sus datos por encima de aquellos que no se dan de baja."
      ],
      "metadata": {
        "id": "dzJtS7IjnbqU"
      }
    },
    {
      "cell_type": "code",
      "source": [
        "subscribers=[\"is_tv_subscriber\",\"is_tv_subscriber\"]\n",
        "for i in subscribers:\n",
        "    sns.barplot(x=\"churn\",y=\"bill_avg\",data=df,hue=i)\n",
        "    plt.title(\"avg bill of \"+ i)\n",
        "    plt.show()"
      ],
      "metadata": {
        "colab": {
          "base_uri": "https://localhost:8080/",
          "height": 573
        },
        "id": "XQKtcLDQ-VPu",
        "outputId": "39fac0a3-3945-47d7-cf97-8fc6399ba07f"
      },
      "execution_count": 27,
      "outputs": [
        {
          "output_type": "display_data",
          "data": {
            "text/plain": [
              "<Figure size 432x288 with 1 Axes>"
            ],
            "image/png": "[encoded data removed]"
          },
          "metadata": {
            "needs_background": "light"
          }
        },
        {
          "output_type": "display_data",
          "data": {
            "text/plain": [
              "<Figure size 432x288 with 1 Axes>"
            ],
            "image/png": "[encoded data removed]"
          },
          "metadata": {
            "needs_background": "light"
          }
        }
      ]
    },
    {
      "cell_type": "code",
      "source": [],
      "metadata": {
        "id": "fgVyOkgmFPoC"
      },
      "execution_count": null,
      "outputs": []
    },
    {
      "cell_type": "markdown",
      "source": [
        "# Tratamiento de datos para generar el modelo"
      ],
      "metadata": {
        "id": "EOi_inCCnxFj"
      }
    },
    {
      "cell_type": "markdown",
      "source": [
        "Visualizamos que hay 21,572 datos vacíos en el feature \"remaining_contract\". Podemos asumir que esos clientes no tienen contrato. Haremos una limpieza. Lo mismo para los features \"download_avg\" y \"upload_avg\", estos clientes no consumen datos."
      ],
      "metadata": {
        "id": "guDe_W9FDiVQ"
      }
    },
    {
      "cell_type": "code",
      "source": [
        "df['reamining_contract'].fillna(0, inplace=True)\n",
        "df['download_avg'].fillna(0, inplace=True)\n",
        "df['upload_avg'].fillna(0, inplace=True)"
      ],
      "metadata": {
        "id": "30I-kjV4DUJo"
      },
      "execution_count": 15,
      "outputs": []
    },
    {
      "cell_type": "code",
      "source": [
        "# Eliminar columna id\n",
        "df = df.drop(['id'], axis=1)"
      ],
      "metadata": {
        "id": "wtdPlkoent8x"
      },
      "execution_count": 16,
      "outputs": []
    },
    {
      "cell_type": "code",
      "source": [
        "## Veamos la correlación que existe entre las variables para decidir cual ingresará al modelo\n",
        "correlation = df.corr()"
      ],
      "metadata": {
        "id": "kFodUAYtCpJL"
      },
      "execution_count": 17,
      "outputs": []
    },
    {
      "cell_type": "code",
      "source": [
        "plt.figure(figsize=(15,8))\n",
        "sns.heatmap(correlation,vmin=-1,vmax=1,annot=True)\n",
        "plt.show()"
      ],
      "metadata": {
        "colab": {
          "base_uri": "https://localhost:8080/",
          "height": 625
        },
        "id": "H60qwseGFDu7",
        "outputId": "b660d697-5e48-4aa3-f971-8705b68680fb"
      },
      "execution_count": 18,
      "outputs": [
        {
          "output_type": "display_data",
          "data": {
            "text/plain": [
              "<Figure size 1080x576 with 2 Axes>"
            ],
            "image/png": "[encoded data removed]"
          },
          "metadata": {
            "needs_background": "light"
          }
        }
      ]
    },
    {
      "cell_type": "markdown",
      "source": [
        "Los features que hacen al uso de los datos están altamente correlacionadas, seguidos por los  feautres suscripciones de TV y Movies. Creamos el modelo con todas ellas y luego otro suprimiendo una de ellas para validar si mejora nuestro poder predictivo."
      ],
      "metadata": {
        "id": "BWBo07dNHOuP"
      }
    },
    {
      "cell_type": "code",
      "source": [
        "df.head()"
      ],
      "metadata": {
        "colab": {
          "base_uri": "https://localhost:8080/",
          "height": 268
        },
        "id": "jKADbMayoF8S",
        "outputId": "16a26c5c-b130-435a-b51c-8e9759f893fb"
      },
      "execution_count": 19,
      "outputs": [
        {
          "output_type": "execute_result",
          "data": {
            "text/plain": [
              "   is_tv_subscriber  is_movie_package_subscriber  subscription_age  bill_avg  \\\n",
              "0                 1                            0             11.95        25   \n",
              "1                 0                            0              8.22         0   \n",
              "2                 1                            0              8.91        16   \n",
              "3                 0                            0              6.87        21   \n",
              "4                 0                            0              6.39         0   \n",
              "\n",
              "   reamining_contract  service_failure_count  download_avg  upload_avg  \\\n",
              "0                0.14                      0           8.4         2.3   \n",
              "1                0.00                      0           0.0         0.0   \n",
              "2                0.00                      0          13.7         0.9   \n",
              "3                0.00                      1           0.0         0.0   \n",
              "4                0.00                      0           0.0         0.0   \n",
              "\n",
              "   download_over_limit  churn  \n",
              "0                    0      0  \n",
              "1                    0      1  \n",
              "2                    0      1  \n",
              "3                    0      1  \n",
              "4                    0      1  "
            ],
            "text/html": [
              "\n",
              "  <div id=\"df-6cd75eed-f177-4ae3-9cfb-4e5dd7c6b7ac\">\n",
              "    <div class=\"colab-df-container\">\n",
              "      <div>\n",
              "<style scoped>\n",
              "    .dataframe tbody tr th:only-of-type {\n",
              "        vertical-align: middle;\n",
              "    }\n",
              "\n",
              "    .dataframe tbody tr th {\n",
              "        vertical-align: top;\n",
              "    }\n",
              "\n",
              "    .dataframe thead th {\n",
              "        text-align: right;\n",
              "    }\n",
              "</style>\n",
              "<table border=\"1\" class=\"dataframe\">\n",
              "  <thead>\n",
              "    <tr style=\"text-align: right;\">\n",
              "      <th></th>\n",
              "      <th>is_tv_subscriber</th>\n",
              "      <th>is_movie_package_subscriber</th>\n",
              "      <th>subscription_age</th>\n",
              "      <th>bill_avg</th>\n",
              "      <th>reamining_contract</th>\n",
              "      <th>service_failure_count</th>\n",
              "      <th>download_avg</th>\n",
              "      <th>upload_avg</th>\n",
              "      <th>download_over_limit</th>\n",
              "      <th>churn</th>\n",
              "    </tr>\n",
              "  </thead>\n",
              "  <tbody>\n",
              "    <tr>\n",
              "      <th>0</th>\n",
              "      <td>1</td>\n",
              "      <td>0</td>\n",
              "      <td>11.95</td>\n",
              "      <td>25</td>\n",
              "      <td>0.14</td>\n",
              "      <td>0</td>\n",
              "      <td>8.4</td>\n",
              "      <td>2.3</td>\n",
              "      <td>0</td>\n",
              "      <td>0</td>\n",
              "    </tr>\n",
              "    <tr>\n",
              "      <th>1</th>\n",
              "      <td>0</td>\n",
              "      <td>0</td>\n",
              "      <td>8.22</td>\n",
              "      <td>0</td>\n",
              "      <td>0.00</td>\n",
              "      <td>0</td>\n",
              "      <td>0.0</td>\n",
              "      <td>0.0</td>\n",
              "      <td>0</td>\n",
              "      <td>1</td>\n",
              "    </tr>\n",
              "    <tr>\n",
              "      <th>2</th>\n",
              "      <td>1</td>\n",
              "      <td>0</td>\n",
              "      <td>8.91</td>\n",
              "      <td>16</td>\n",
              "      <td>0.00</td>\n",
              "      <td>0</td>\n",
              "      <td>13.7</td>\n",
              "      <td>0.9</td>\n",
              "      <td>0</td>\n",
              "      <td>1</td>\n",
              "    </tr>\n",
              "    <tr>\n",
              "      <th>3</th>\n",
              "      <td>0</td>\n",
              "      <td>0</td>\n",
              "      <td>6.87</td>\n",
              "      <td>21</td>\n",
              "      <td>0.00</td>\n",
              "      <td>1</td>\n",
              "      <td>0.0</td>\n",
              "      <td>0.0</td>\n",
              "      <td>0</td>\n",
              "      <td>1</td>\n",
              "    </tr>\n",
              "    <tr>\n",
              "      <th>4</th>\n",
              "      <td>0</td>\n",
              "      <td>0</td>\n",
              "      <td>6.39</td>\n",
              "      <td>0</td>\n",
              "      <td>0.00</td>\n",
              "      <td>0</td>\n",
              "      <td>0.0</td>\n",
              "      <td>0.0</td>\n",
              "      <td>0</td>\n",
              "      <td>1</td>\n",
              "    </tr>\n",
              "  </tbody>\n",
              "</table>\n",
              "</div>\n",
              "      <button class=\"colab-df-convert\" onclick=\"convertToInteractive('df-6cd75eed-f177-4ae3-9cfb-4e5dd7c6b7ac')\"\n",
              "              title=\"Convert this dataframe to an interactive table.\"\n",
              "              style=\"display:none;\">\n",
              "        \n",
              "  <svg xmlns=\"http://www.w3.org/2000/svg\" height=\"24px\"viewBox=\"0 0 24 24\"\n",
              "       width=\"24px\">\n",
              "    <path d=\"M0 0h24v24H0V0z\" fill=\"none\"/>\n",
              "    <path d=\"M18.56 5.44l.94 2.06.94-2.06 2.06-.94-2.06-.94-.94-2.06-.94 2.06-2.06.94zm-11 1L8.5 8.5l.94-2.06 2.06-.94-2.06-.94L8.5 2.5l-.94 2.06-2.06.94zm10 10l.94 2.06.94-2.06 2.06-.94-2.06-.94-.94-2.06-.94 2.06-2.06.94z\"/><path d=\"M17.41 7.96l-1.37-1.37c-.4-.4-.92-.59-1.43-.59-.52 0-1.04.2-1.43.59L10.3 9.45l-7.72 7.72c-.78.78-.78 2.05 0 2.83L4 21.41c.39.39.9.59 1.41.59.51 0 1.02-.2 1.41-.59l7.78-7.78 2.81-2.81c.8-.78.8-2.07 0-2.86zM5.41 20L4 18.59l7.72-7.72 1.47 1.35L5.41 20z\"/>\n",
              "  </svg>\n",
              "      </button>\n",
              "      \n",
              "  <style>\n",
              "    .colab-df-container {\n",
              "      display:flex;\n",
              "      flex-wrap:wrap;\n",
              "      gap: 12px;\n",
              "    }\n",
              "\n",
              "    .colab-df-convert {\n",
              "      background-color: #E8F0FE;\n",
              "      border: none;\n",
              "      border-radius: 50%;\n",
              "      cursor: pointer;\n",
              "      display: none;\n",
              "      fill: #1967D2;\n",
              "      height: 32px;\n",
              "      padding: 0 0 0 0;\n",
              "      width: 32px;\n",
              "    }\n",
              "\n",
              "    .colab-df-convert:hover {\n",
              "      background-color: #E2EBFA;\n",
              "      box-shadow: 0px 1px 2px rgba(60, 64, 67, 0.3), 0px 1px 3px 1px rgba(60, 64, 67, 0.15);\n",
              "      fill: #174EA6;\n",
              "    }\n",
              "\n",
              "    [theme=dark] .colab-df-convert {\n",
              "      background-color: #3B4455;\n",
              "      fill: #D2E3FC;\n",
              "    }\n",
              "\n",
              "    [theme=dark] .colab-df-convert:hover {\n",
              "      background-color: #434B5C;\n",
              "      box-shadow: 0px 1px 3px 1px rgba(0, 0, 0, 0.15);\n",
              "      filter: drop-shadow(0px 1px 2px rgba(0, 0, 0, 0.3));\n",
              "      fill: #FFFFFF;\n",
              "    }\n",
              "  </style>\n",
              "\n",
              "      <script>\n",
              "        const buttonEl =\n",
              "          document.querySelector('#df-6cd75eed-f177-4ae3-9cfb-4e5dd7c6b7ac button.colab-df-convert');\n",
              "        buttonEl.style.display =\n",
              "          google.colab.kernel.accessAllowed ? 'block' : 'none';\n",
              "\n",
              "        async function convertToInteractive(key) {\n",
              "          const element = document.querySelector('#df-6cd75eed-f177-4ae3-9cfb-4e5dd7c6b7ac');\n",
              "          const dataTable =\n",
              "            await google.colab.kernel.invokeFunction('convertToInteractive',\n",
              "                                                     [key], {});\n",
              "          if (!dataTable) return;\n",
              "\n",
              "          const docLinkHtml = 'Like what you see? Visit the ' +\n",
              "            '<a target=\"_blank\" href=https://colab.research.google.com/notebooks/data_table.ipynb>data table notebook</a>'\n",
              "            + ' to learn more about interactive tables.';\n",
              "          element.innerHTML = '';\n",
              "          dataTable['output_type'] = 'display_data';\n",
              "          await google.colab.output.renderOutput(dataTable, element);\n",
              "          const docLink = document.createElement('div');\n",
              "          docLink.innerHTML = docLinkHtml;\n",
              "          element.appendChild(docLink);\n",
              "        }\n",
              "      </script>\n",
              "    </div>\n",
              "  </div>\n",
              "  "
            ]
          },
          "metadata": {},
          "execution_count": 19
        }
      ]
    },
    {
      "cell_type": "code",
      "source": [
        "y = df['churn']"
      ],
      "metadata": {
        "id": "Xbx4VSYtKGVT"
      },
      "execution_count": 20,
      "outputs": []
    },
    {
      "cell_type": "code",
      "source": [
        "X = df.drop(['churn'], axis=1)"
      ],
      "metadata": {
        "id": "TmJsOiP0KK95"
      },
      "execution_count": 21,
      "outputs": []
    },
    {
      "cell_type": "code",
      "source": [
        "# Normalizamos los datos numericos (Convertir datos en valores entre 0 y 1)\n",
        "from sklearn import preprocessing\n",
        "\n",
        "# Recordatorio: los transformadores de sklearn devuelven numpy arrays, no dataframes\n",
        "min_max_scaler = preprocessing.MinMaxScaler()\n",
        "X_normalizado = min_max_scaler.fit_transform(X)\n",
        "print(X_normalizado)"
      ],
      "metadata": {
        "colab": {
          "base_uri": "https://localhost:8080/"
        },
        "id": "f4LGulSxJFe6",
        "outputId": "6293c769-b32d-4841-fdda-1f92eccb7c79"
      },
      "execution_count": 22,
      "outputs": [
        {
          "output_type": "stream",
          "name": "stdout",
          "text": [
            "[[1.00000000e+00 0.00000000e+00 9.33697348e-01 ... 1.90251857e-03\n",
            "  5.07390249e-03 0.00000000e+00]\n",
            " [0.00000000e+00 0.00000000e+00 6.42745710e-01 ... 0.00000000e+00\n",
            "  0.00000000e+00 0.00000000e+00]\n",
            " [1.00000000e+00 0.00000000e+00 6.96567863e-01 ... 3.10291720e-03\n",
            "  1.98544011e-03 0.00000000e+00]\n",
            " ...\n",
            " [1.00000000e+00 0.00000000e+00 3.12012480e-03 ... 3.39735459e-04\n",
            "  4.41208912e-04 0.00000000e+00]\n",
            " [0.00000000e+00 0.00000000e+00 2.34009360e-03 ... 0.00000000e+00\n",
            "  0.00000000e+00 0.00000000e+00]\n",
            " [1.00000000e+00 1.00000000e+00 2.34009360e-03 ... 0.00000000e+00\n",
            "  0.00000000e+00 0.00000000e+00]]\n"
          ]
        }
      ]
    },
    {
      "cell_type": "code",
      "source": [
        "# Convertimos en dataframe los valores normalizados y mantenemos los nombres de las columnas.\n",
        "X_normalizado = pd.DataFrame(X_normalizado, columns=X.columns)"
      ],
      "metadata": {
        "id": "9Angp1LxLaFM"
      },
      "execution_count": 23,
      "outputs": []
    },
    {
      "cell_type": "code",
      "source": [
        "X_normalizado.head()"
      ],
      "metadata": {
        "colab": {
          "base_uri": "https://localhost:8080/",
          "height": 268
        },
        "id": "uhBejs8LLbcv",
        "outputId": "3580a9dc-e3f3-4f07-ea9e-b6707dbcab06"
      },
      "execution_count": 24,
      "outputs": [
        {
          "output_type": "execute_result",
          "data": {
            "text/plain": [
              "   is_tv_subscriber  is_movie_package_subscriber  subscription_age  bill_avg  \\\n",
              "0               1.0                          0.0          0.933697  0.061576   \n",
              "1               0.0                          0.0          0.642746  0.000000   \n",
              "2               1.0                          0.0          0.696568  0.039409   \n",
              "3               0.0                          0.0          0.537441  0.051724   \n",
              "4               0.0                          0.0          0.500000  0.000000   \n",
              "\n",
              "   reamining_contract  service_failure_count  download_avg  upload_avg  \\\n",
              "0            0.047945               0.000000      0.001903    0.005074   \n",
              "1            0.000000               0.000000      0.000000    0.000000   \n",
              "2            0.000000               0.000000      0.003103    0.001985   \n",
              "3            0.000000               0.052632      0.000000    0.000000   \n",
              "4            0.000000               0.000000      0.000000    0.000000   \n",
              "\n",
              "   download_over_limit  \n",
              "0                  0.0  \n",
              "1                  0.0  \n",
              "2                  0.0  \n",
              "3                  0.0  \n",
              "4                  0.0  "
            ],
            "text/html": [
              "\n",
              "  <div id=\"df-700a93a0-5a97-4f15-943e-726462a38b9f\">\n",
              "    <div class=\"colab-df-container\">\n",
              "      <div>\n",
              "<style scoped>\n",
              "    .dataframe tbody tr th:only-of-type {\n",
              "        vertical-align: middle;\n",
              "    }\n",
              "\n",
              "    .dataframe tbody tr th {\n",
              "        vertical-align: top;\n",
              "    }\n",
              "\n",
              "    .dataframe thead th {\n",
              "        text-align: right;\n",
              "    }\n",
              "</style>\n",
              "<table border=\"1\" class=\"dataframe\">\n",
              "  <thead>\n",
              "    <tr style=\"text-align: right;\">\n",
              "      <th></th>\n",
              "      <th>is_tv_subscriber</th>\n",
              "      <th>is_movie_package_subscriber</th>\n",
              "      <th>subscription_age</th>\n",
              "      <th>bill_avg</th>\n",
              "      <th>reamining_contract</th>\n",
              "      <th>service_failure_count</th>\n",
              "      <th>download_avg</th>\n",
              "      <th>upload_avg</th>\n",
              "      <th>download_over_limit</th>\n",
              "    </tr>\n",
              "  </thead>\n",
              "  <tbody>\n",
              "    <tr>\n",
              "      <th>0</th>\n",
              "      <td>1.0</td>\n",
              "      <td>0.0</td>\n",
              "      <td>0.933697</td>\n",
              "      <td>0.061576</td>\n",
              "      <td>0.047945</td>\n",
              "      <td>0.000000</td>\n",
              "      <td>0.001903</td>\n",
              "      <td>0.005074</td>\n",
              "      <td>0.0</td>\n",
              "    </tr>\n",
              "    <tr>\n",
              "      <th>1</th>\n",
              "      <td>0.0</td>\n",
              "      <td>0.0</td>\n",
              "      <td>0.642746</td>\n",
              "      <td>0.000000</td>\n",
              "      <td>0.000000</td>\n",
              "      <td>0.000000</td>\n",
              "      <td>0.000000</td>\n",
              "      <td>0.000000</td>\n",
              "      <td>0.0</td>\n",
              "    </tr>\n",
              "    <tr>\n",
              "      <th>2</th>\n",
              "      <td>1.0</td>\n",
              "      <td>0.0</td>\n",
              "      <td>0.696568</td>\n",
              "      <td>0.039409</td>\n",
              "      <td>0.000000</td>\n",
              "      <td>0.000000</td>\n",
              "      <td>0.003103</td>\n",
              "      <td>0.001985</td>\n",
              "      <td>0.0</td>\n",
              "    </tr>\n",
              "    <tr>\n",
              "      <th>3</th>\n",
              "      <td>0.0</td>\n",
              "      <td>0.0</td>\n",
              "      <td>0.537441</td>\n",
              "      <td>0.051724</td>\n",
              "      <td>0.000000</td>\n",
              "      <td>0.052632</td>\n",
              "      <td>0.000000</td>\n",
              "      <td>0.000000</td>\n",
              "      <td>0.0</td>\n",
              "    </tr>\n",
              "    <tr>\n",
              "      <th>4</th>\n",
              "      <td>0.0</td>\n",
              "      <td>0.0</td>\n",
              "      <td>0.500000</td>\n",
              "      <td>0.000000</td>\n",
              "      <td>0.000000</td>\n",
              "      <td>0.000000</td>\n",
              "      <td>0.000000</td>\n",
              "      <td>0.000000</td>\n",
              "      <td>0.0</td>\n",
              "    </tr>\n",
              "  </tbody>\n",
              "</table>\n",
              "</div>\n",
              "      <button class=\"colab-df-convert\" onclick=\"convertToInteractive('df-700a93a0-5a97-4f15-943e-726462a38b9f')\"\n",
              "              title=\"Convert this dataframe to an interactive table.\"\n",
              "              style=\"display:none;\">\n",
              "        \n",
              "  <svg xmlns=\"http://www.w3.org/2000/svg\" height=\"24px\"viewBox=\"0 0 24 24\"\n",
              "       width=\"24px\">\n",
              "    <path d=\"M0 0h24v24H0V0z\" fill=\"none\"/>\n",
              "    <path d=\"M18.56 5.44l.94 2.06.94-2.06 2.06-.94-2.06-.94-.94-2.06-.94 2.06-2.06.94zm-11 1L8.5 8.5l.94-2.06 2.06-.94-2.06-.94L8.5 2.5l-.94 2.06-2.06.94zm10 10l.94 2.06.94-2.06 2.06-.94-2.06-.94-.94-2.06-.94 2.06-2.06.94z\"/><path d=\"M17.41 7.96l-1.37-1.37c-.4-.4-.92-.59-1.43-.59-.52 0-1.04.2-1.43.59L10.3 9.45l-7.72 7.72c-.78.78-.78 2.05 0 2.83L4 21.41c.39.39.9.59 1.41.59.51 0 1.02-.2 1.41-.59l7.78-7.78 2.81-2.81c.8-.78.8-2.07 0-2.86zM5.41 20L4 18.59l7.72-7.72 1.47 1.35L5.41 20z\"/>\n",
              "  </svg>\n",
              "      </button>\n",
              "      \n",
              "  <style>\n",
              "    .colab-df-container {\n",
              "      display:flex;\n",
              "      flex-wrap:wrap;\n",
              "      gap: 12px;\n",
              "    }\n",
              "\n",
              "    .colab-df-convert {\n",
              "      background-color: #E8F0FE;\n",
              "      border: none;\n",
              "      border-radius: 50%;\n",
              "      cursor: pointer;\n",
              "      display: none;\n",
              "      fill: #1967D2;\n",
              "      height: 32px;\n",
              "      padding: 0 0 0 0;\n",
              "      width: 32px;\n",
              "    }\n",
              "\n",
              "    .colab-df-convert:hover {\n",
              "      background-color: #E2EBFA;\n",
              "      box-shadow: 0px 1px 2px rgba(60, 64, 67, 0.3), 0px 1px 3px 1px rgba(60, 64, 67, 0.15);\n",
              "      fill: #174EA6;\n",
              "    }\n",
              "\n",
              "    [theme=dark] .colab-df-convert {\n",
              "      background-color: #3B4455;\n",
              "      fill: #D2E3FC;\n",
              "    }\n",
              "\n",
              "    [theme=dark] .colab-df-convert:hover {\n",
              "      background-color: #434B5C;\n",
              "      box-shadow: 0px 1px 3px 1px rgba(0, 0, 0, 0.15);\n",
              "      filter: drop-shadow(0px 1px 2px rgba(0, 0, 0, 0.3));\n",
              "      fill: #FFFFFF;\n",
              "    }\n",
              "  </style>\n",
              "\n",
              "      <script>\n",
              "        const buttonEl =\n",
              "          document.querySelector('#df-700a93a0-5a97-4f15-943e-726462a38b9f button.colab-df-convert');\n",
              "        buttonEl.style.display =\n",
              "          google.colab.kernel.accessAllowed ? 'block' : 'none';\n",
              "\n",
              "        async function convertToInteractive(key) {\n",
              "          const element = document.querySelector('#df-700a93a0-5a97-4f15-943e-726462a38b9f');\n",
              "          const dataTable =\n",
              "            await google.colab.kernel.invokeFunction('convertToInteractive',\n",
              "                                                     [key], {});\n",
              "          if (!dataTable) return;\n",
              "\n",
              "          const docLinkHtml = 'Like what you see? Visit the ' +\n",
              "            '<a target=\"_blank\" href=https://colab.research.google.com/notebooks/data_table.ipynb>data table notebook</a>'\n",
              "            + ' to learn more about interactive tables.';\n",
              "          element.innerHTML = '';\n",
              "          dataTable['output_type'] = 'display_data';\n",
              "          await google.colab.output.renderOutput(dataTable, element);\n",
              "          const docLink = document.createElement('div');\n",
              "          docLink.innerHTML = docLinkHtml;\n",
              "          element.appendChild(docLink);\n",
              "        }\n",
              "      </script>\n",
              "    </div>\n",
              "  </div>\n",
              "  "
            ]
          },
          "metadata": {},
          "execution_count": 24
        }
      ]
    },
    {
      "cell_type": "code",
      "source": [
        "from sklearn.model_selection import train_test_split"
      ],
      "metadata": {
        "id": "D0gYKr0KNAac"
      },
      "execution_count": 25,
      "outputs": []
    },
    {
      "cell_type": "code",
      "source": [
        "X_train, X_test, y_train, y_test = train_test_split(X_normalizado, y, train_size=0.7, random_state=4)"
      ],
      "metadata": {
        "id": "U6sSfN4eLxz9"
      },
      "execution_count": 26,
      "outputs": []
    },
    {
      "cell_type": "code",
      "source": [
        "X_train.head()"
      ],
      "metadata": {
        "colab": {
          "base_uri": "https://localhost:8080/",
          "height": 268
        },
        "id": "DG6oMFdgNJ3U",
        "outputId": "98b4c15c-8f77-4c42-ca53-a9f06a5396a6"
      },
      "execution_count": 27,
      "outputs": [
        {
          "output_type": "execute_result",
          "data": {
            "text/plain": [
              "       is_tv_subscriber  is_movie_package_subscriber  subscription_age  \\\n",
              "49514               1.0                          1.0          0.169267   \n",
              "1965                1.0                          1.0          0.686427   \n",
              "7194                1.0                          0.0          0.258190   \n",
              "46548               1.0                          0.0          0.017161   \n",
              "7552                0.0                          0.0          0.109204   \n",
              "\n",
              "       bill_avg  reamining_contract  service_failure_count  download_avg  \\\n",
              "49514  0.041872             0.60274                    0.0      0.021154   \n",
              "1965   0.009852             0.00000                    0.0      0.001472   \n",
              "7194   0.051724             0.00000                    0.0      0.009286   \n",
              "46548  0.041872             0.00000                    0.0      0.006206   \n",
              "7552   0.000000             0.00000                    0.0      0.000000   \n",
              "\n",
              "       upload_avg  download_over_limit  \n",
              "49514    0.054489             0.000000  \n",
              "1965     0.001103             0.428571  \n",
              "7194     0.005515             0.000000  \n",
              "46548    0.001985             0.000000  \n",
              "7552     0.000000             0.000000  "
            ],
            "text/html": [
              "\n",
              "  <div id=\"df-3c126e52-60b6-458d-94b9-facd5e9a723f\">\n",
              "    <div class=\"colab-df-container\">\n",
              "      <div>\n",
              "<style scoped>\n",
              "    .dataframe tbody tr th:only-of-type {\n",
              "        vertical-align: middle;\n",
              "    }\n",
              "\n",
              "    .dataframe tbody tr th {\n",
              "        vertical-align: top;\n",
              "    }\n",
              "\n",
              "    .dataframe thead th {\n",
              "        text-align: right;\n",
              "    }\n",
              "</style>\n",
              "<table border=\"1\" class=\"dataframe\">\n",
              "  <thead>\n",
              "    <tr style=\"text-align: right;\">\n",
              "      <th></th>\n",
              "      <th>is_tv_subscriber</th>\n",
              "      <th>is_movie_package_subscriber</th>\n",
              "      <th>subscription_age</th>\n",
              "      <th>bill_avg</th>\n",
              "      <th>reamining_contract</th>\n",
              "      <th>service_failure_count</th>\n",
              "      <th>download_avg</th>\n",
              "      <th>upload_avg</th>\n",
              "      <th>download_over_limit</th>\n",
              "    </tr>\n",
              "  </thead>\n",
              "  <tbody>\n",
              "    <tr>\n",
              "      <th>49514</th>\n",
              "      <td>1.0</td>\n",
              "      <td>1.0</td>\n",
              "      <td>0.169267</td>\n",
              "      <td>0.041872</td>\n",
              "      <td>0.60274</td>\n",
              "      <td>0.0</td>\n",
              "      <td>0.021154</td>\n",
              "      <td>0.054489</td>\n",
              "      <td>0.000000</td>\n",
              "    </tr>\n",
              "    <tr>\n",
              "      <th>1965</th>\n",
              "      <td>1.0</td>\n",
              "      <td>1.0</td>\n",
              "      <td>0.686427</td>\n",
              "      <td>0.009852</td>\n",
              "      <td>0.00000</td>\n",
              "      <td>0.0</td>\n",
              "      <td>0.001472</td>\n",
              "      <td>0.001103</td>\n",
              "      <td>0.428571</td>\n",
              "    </tr>\n",
              "    <tr>\n",
              "      <th>7194</th>\n",
              "      <td>1.0</td>\n",
              "      <td>0.0</td>\n",
              "      <td>0.258190</td>\n",
              "      <td>0.051724</td>\n",
              "      <td>0.00000</td>\n",
              "      <td>0.0</td>\n",
              "      <td>0.009286</td>\n",
              "      <td>0.005515</td>\n",
              "      <td>0.000000</td>\n",
              "    </tr>\n",
              "    <tr>\n",
              "      <th>46548</th>\n",
              "      <td>1.0</td>\n",
              "      <td>0.0</td>\n",
              "      <td>0.017161</td>\n",
              "      <td>0.041872</td>\n",
              "      <td>0.00000</td>\n",
              "      <td>0.0</td>\n",
              "      <td>0.006206</td>\n",
              "      <td>0.001985</td>\n",
              "      <td>0.000000</td>\n",
              "    </tr>\n",
              "    <tr>\n",
              "      <th>7552</th>\n",
              "      <td>0.0</td>\n",
              "      <td>0.0</td>\n",
              "      <td>0.109204</td>\n",
              "      <td>0.000000</td>\n",
              "      <td>0.00000</td>\n",
              "      <td>0.0</td>\n",
              "      <td>0.000000</td>\n",
              "      <td>0.000000</td>\n",
              "      <td>0.000000</td>\n",
              "    </tr>\n",
              "  </tbody>\n",
              "</table>\n",
              "</div>\n",
              "      <button class=\"colab-df-convert\" onclick=\"convertToInteractive('df-3c126e52-60b6-458d-94b9-facd5e9a723f')\"\n",
              "              title=\"Convert this dataframe to an interactive table.\"\n",
              "              style=\"display:none;\">\n",
              "        \n",
              "  <svg xmlns=\"http://www.w3.org/2000/svg\" height=\"24px\"viewBox=\"0 0 24 24\"\n",
              "       width=\"24px\">\n",
              "    <path d=\"M0 0h24v24H0V0z\" fill=\"none\"/>\n",
              "    <path d=\"M18.56 5.44l.94 2.06.94-2.06 2.06-.94-2.06-.94-.94-2.06-.94 2.06-2.06.94zm-11 1L8.5 8.5l.94-2.06 2.06-.94-2.06-.94L8.5 2.5l-.94 2.06-2.06.94zm10 10l.94 2.06.94-2.06 2.06-.94-2.06-.94-.94-2.06-.94 2.06-2.06.94z\"/><path d=\"M17.41 7.96l-1.37-1.37c-.4-.4-.92-.59-1.43-.59-.52 0-1.04.2-1.43.59L10.3 9.45l-7.72 7.72c-.78.78-.78 2.05 0 2.83L4 21.41c.39.39.9.59 1.41.59.51 0 1.02-.2 1.41-.59l7.78-7.78 2.81-2.81c.8-.78.8-2.07 0-2.86zM5.41 20L4 18.59l7.72-7.72 1.47 1.35L5.41 20z\"/>\n",
              "  </svg>\n",
              "      </button>\n",
              "      \n",
              "  <style>\n",
              "    .colab-df-container {\n",
              "      display:flex;\n",
              "      flex-wrap:wrap;\n",
              "      gap: 12px;\n",
              "    }\n",
              "\n",
              "    .colab-df-convert {\n",
              "      background-color: #E8F0FE;\n",
              "      border: none;\n",
              "      border-radius: 50%;\n",
              "      cursor: pointer;\n",
              "      display: none;\n",
              "      fill: #1967D2;\n",
              "      height: 32px;\n",
              "      padding: 0 0 0 0;\n",
              "      width: 32px;\n",
              "    }\n",
              "\n",
              "    .colab-df-convert:hover {\n",
              "      background-color: #E2EBFA;\n",
              "      box-shadow: 0px 1px 2px rgba(60, 64, 67, 0.3), 0px 1px 3px 1px rgba(60, 64, 67, 0.15);\n",
              "      fill: #174EA6;\n",
              "    }\n",
              "\n",
              "    [theme=dark] .colab-df-convert {\n",
              "      background-color: #3B4455;\n",
              "      fill: #D2E3FC;\n",
              "    }\n",
              "\n",
              "    [theme=dark] .colab-df-convert:hover {\n",
              "      background-color: #434B5C;\n",
              "      box-shadow: 0px 1px 3px 1px rgba(0, 0, 0, 0.15);\n",
              "      filter: drop-shadow(0px 1px 2px rgba(0, 0, 0, 0.3));\n",
              "      fill: #FFFFFF;\n",
              "    }\n",
              "  </style>\n",
              "\n",
              "      <script>\n",
              "        const buttonEl =\n",
              "          document.querySelector('#df-3c126e52-60b6-458d-94b9-facd5e9a723f button.colab-df-convert');\n",
              "        buttonEl.style.display =\n",
              "          google.colab.kernel.accessAllowed ? 'block' : 'none';\n",
              "\n",
              "        async function convertToInteractive(key) {\n",
              "          const element = document.querySelector('#df-3c126e52-60b6-458d-94b9-facd5e9a723f');\n",
              "          const dataTable =\n",
              "            await google.colab.kernel.invokeFunction('convertToInteractive',\n",
              "                                                     [key], {});\n",
              "          if (!dataTable) return;\n",
              "\n",
              "          const docLinkHtml = 'Like what you see? Visit the ' +\n",
              "            '<a target=\"_blank\" href=https://colab.research.google.com/notebooks/data_table.ipynb>data table notebook</a>'\n",
              "            + ' to learn more about interactive tables.';\n",
              "          element.innerHTML = '';\n",
              "          dataTable['output_type'] = 'display_data';\n",
              "          await google.colab.output.renderOutput(dataTable, element);\n",
              "          const docLink = document.createElement('div');\n",
              "          docLink.innerHTML = docLinkHtml;\n",
              "          element.appendChild(docLink);\n",
              "        }\n",
              "      </script>\n",
              "    </div>\n",
              "  </div>\n",
              "  "
            ]
          },
          "metadata": {},
          "execution_count": 27
        }
      ]
    },
    {
      "cell_type": "code",
      "source": [
        "X_train.shape"
      ],
      "metadata": {
        "colab": {
          "base_uri": "https://localhost:8080/"
        },
        "id": "SeWHZ93OEzyM",
        "outputId": "7acad5e9-da17-443c-dc98-6e20e2edfb38"
      },
      "execution_count": 28,
      "outputs": [
        {
          "output_type": "execute_result",
          "data": {
            "text/plain": [
              "(50591, 9)"
            ]
          },
          "metadata": {},
          "execution_count": 28
        }
      ]
    },
    {
      "cell_type": "code",
      "source": [
        "X_test.head()"
      ],
      "metadata": {
        "colab": {
          "base_uri": "https://localhost:8080/",
          "height": 268
        },
        "id": "jjfulve1ORVX",
        "outputId": "7e524017-49c0-4c48-b7cb-7840beb72836"
      },
      "execution_count": 29,
      "outputs": [
        {
          "output_type": "execute_result",
          "data": {
            "text/plain": [
              "       is_tv_subscriber  is_movie_package_subscriber  subscription_age  \\\n",
              "61039               0.0                          0.0          0.001560   \n",
              "43134               1.0                          1.0          0.230109   \n",
              "70700               1.0                          0.0          0.009360   \n",
              "4872                1.0                          1.0          0.619345   \n",
              "65464               1.0                          1.0          0.048362   \n",
              "\n",
              "       bill_avg  reamining_contract  service_failure_count  download_avg  \\\n",
              "61039  0.000000            0.000000                    0.0      0.000000   \n",
              "43134  0.064039            0.592466                    0.0      0.023668   \n",
              "70700  0.039409            0.643836                    0.0      0.007746   \n",
              "4872   0.091133            0.157534                    0.0      0.016239   \n",
              "65464  0.036946            0.472603                    0.0      0.015265   \n",
              "\n",
              "       upload_avg  download_over_limit  \n",
              "61039    0.000000                  0.0  \n",
              "43134    0.012795                  0.0  \n",
              "70700    0.005956                  0.0  \n",
              "4872     0.009707                  0.0  \n",
              "65464    0.007059                  0.0  "
            ],
            "text/html": [
              "\n",
              "  <div id=\"df-1a818d60-94a1-4092-ae02-92dc040cf51b\">\n",
              "    <div class=\"colab-df-container\">\n",
              "      <div>\n",
              "<style scoped>\n",
              "    .dataframe tbody tr th:only-of-type {\n",
              "        vertical-align: middle;\n",
              "    }\n",
              "\n",
              "    .dataframe tbody tr th {\n",
              "        vertical-align: top;\n",
              "    }\n",
              "\n",
              "    .dataframe thead th {\n",
              "        text-align: right;\n",
              "    }\n",
              "</style>\n",
              "<table border=\"1\" class=\"dataframe\">\n",
              "  <thead>\n",
              "    <tr style=\"text-align: right;\">\n",
              "      <th></th>\n",
              "      <th>is_tv_subscriber</th>\n",
              "      <th>is_movie_package_subscriber</th>\n",
              "      <th>subscription_age</th>\n",
              "      <th>bill_avg</th>\n",
              "      <th>reamining_contract</th>\n",
              "      <th>service_failure_count</th>\n",
              "      <th>download_avg</th>\n",
              "      <th>upload_avg</th>\n",
              "      <th>download_over_limit</th>\n",
              "    </tr>\n",
              "  </thead>\n",
              "  <tbody>\n",
              "    <tr>\n",
              "      <th>61039</th>\n",
              "      <td>0.0</td>\n",
              "      <td>0.0</td>\n",
              "      <td>0.001560</td>\n",
              "      <td>0.000000</td>\n",
              "      <td>0.000000</td>\n",
              "      <td>0.0</td>\n",
              "      <td>0.000000</td>\n",
              "      <td>0.000000</td>\n",
              "      <td>0.0</td>\n",
              "    </tr>\n",
              "    <tr>\n",
              "      <th>43134</th>\n",
              "      <td>1.0</td>\n",
              "      <td>1.0</td>\n",
              "      <td>0.230109</td>\n",
              "      <td>0.064039</td>\n",
              "      <td>0.592466</td>\n",
              "      <td>0.0</td>\n",
              "      <td>0.023668</td>\n",
              "      <td>0.012795</td>\n",
              "      <td>0.0</td>\n",
              "    </tr>\n",
              "    <tr>\n",
              "      <th>70700</th>\n",
              "      <td>1.0</td>\n",
              "      <td>0.0</td>\n",
              "      <td>0.009360</td>\n",
              "      <td>0.039409</td>\n",
              "      <td>0.643836</td>\n",
              "      <td>0.0</td>\n",
              "      <td>0.007746</td>\n",
              "      <td>0.005956</td>\n",
              "      <td>0.0</td>\n",
              "    </tr>\n",
              "    <tr>\n",
              "      <th>4872</th>\n",
              "      <td>1.0</td>\n",
              "      <td>1.0</td>\n",
              "      <td>0.619345</td>\n",
              "      <td>0.091133</td>\n",
              "      <td>0.157534</td>\n",
              "      <td>0.0</td>\n",
              "      <td>0.016239</td>\n",
              "      <td>0.009707</td>\n",
              "      <td>0.0</td>\n",
              "    </tr>\n",
              "    <tr>\n",
              "      <th>65464</th>\n",
              "      <td>1.0</td>\n",
              "      <td>1.0</td>\n",
              "      <td>0.048362</td>\n",
              "      <td>0.036946</td>\n",
              "      <td>0.472603</td>\n",
              "      <td>0.0</td>\n",
              "      <td>0.015265</td>\n",
              "      <td>0.007059</td>\n",
              "      <td>0.0</td>\n",
              "    </tr>\n",
              "  </tbody>\n",
              "</table>\n",
              "</div>\n",
              "      <button class=\"colab-df-convert\" onclick=\"convertToInteractive('df-1a818d60-94a1-4092-ae02-92dc040cf51b')\"\n",
              "              title=\"Convert this dataframe to an interactive table.\"\n",
              "              style=\"display:none;\">\n",
              "        \n",
              "  <svg xmlns=\"http://www.w3.org/2000/svg\" height=\"24px\"viewBox=\"0 0 24 24\"\n",
              "       width=\"24px\">\n",
              "    <path d=\"M0 0h24v24H0V0z\" fill=\"none\"/>\n",
              "    <path d=\"M18.56 5.44l.94 2.06.94-2.06 2.06-.94-2.06-.94-.94-2.06-.94 2.06-2.06.94zm-11 1L8.5 8.5l.94-2.06 2.06-.94-2.06-.94L8.5 2.5l-.94 2.06-2.06.94zm10 10l.94 2.06.94-2.06 2.06-.94-2.06-.94-.94-2.06-.94 2.06-2.06.94z\"/><path d=\"M17.41 7.96l-1.37-1.37c-.4-.4-.92-.59-1.43-.59-.52 0-1.04.2-1.43.59L10.3 9.45l-7.72 7.72c-.78.78-.78 2.05 0 2.83L4 21.41c.39.39.9.59 1.41.59.51 0 1.02-.2 1.41-.59l7.78-7.78 2.81-2.81c.8-.78.8-2.07 0-2.86zM5.41 20L4 18.59l7.72-7.72 1.47 1.35L5.41 20z\"/>\n",
              "  </svg>\n",
              "      </button>\n",
              "      \n",
              "  <style>\n",
              "    .colab-df-container {\n",
              "      display:flex;\n",
              "      flex-wrap:wrap;\n",
              "      gap: 12px;\n",
              "    }\n",
              "\n",
              "    .colab-df-convert {\n",
              "      background-color: #E8F0FE;\n",
              "      border: none;\n",
              "      border-radius: 50%;\n",
              "      cursor: pointer;\n",
              "      display: none;\n",
              "      fill: #1967D2;\n",
              "      height: 32px;\n",
              "      padding: 0 0 0 0;\n",
              "      width: 32px;\n",
              "    }\n",
              "\n",
              "    .colab-df-convert:hover {\n",
              "      background-color: #E2EBFA;\n",
              "      box-shadow: 0px 1px 2px rgba(60, 64, 67, 0.3), 0px 1px 3px 1px rgba(60, 64, 67, 0.15);\n",
              "      fill: #174EA6;\n",
              "    }\n",
              "\n",
              "    [theme=dark] .colab-df-convert {\n",
              "      background-color: #3B4455;\n",
              "      fill: #D2E3FC;\n",
              "    }\n",
              "\n",
              "    [theme=dark] .colab-df-convert:hover {\n",
              "      background-color: #434B5C;\n",
              "      box-shadow: 0px 1px 3px 1px rgba(0, 0, 0, 0.15);\n",
              "      filter: drop-shadow(0px 1px 2px rgba(0, 0, 0, 0.3));\n",
              "      fill: #FFFFFF;\n",
              "    }\n",
              "  </style>\n",
              "\n",
              "      <script>\n",
              "        const buttonEl =\n",
              "          document.querySelector('#df-1a818d60-94a1-4092-ae02-92dc040cf51b button.colab-df-convert');\n",
              "        buttonEl.style.display =\n",
              "          google.colab.kernel.accessAllowed ? 'block' : 'none';\n",
              "\n",
              "        async function convertToInteractive(key) {\n",
              "          const element = document.querySelector('#df-1a818d60-94a1-4092-ae02-92dc040cf51b');\n",
              "          const dataTable =\n",
              "            await google.colab.kernel.invokeFunction('convertToInteractive',\n",
              "                                                     [key], {});\n",
              "          if (!dataTable) return;\n",
              "\n",
              "          const docLinkHtml = 'Like what you see? Visit the ' +\n",
              "            '<a target=\"_blank\" href=https://colab.research.google.com/notebooks/data_table.ipynb>data table notebook</a>'\n",
              "            + ' to learn more about interactive tables.';\n",
              "          element.innerHTML = '';\n",
              "          dataTable['output_type'] = 'display_data';\n",
              "          await google.colab.output.renderOutput(dataTable, element);\n",
              "          const docLink = document.createElement('div');\n",
              "          docLink.innerHTML = docLinkHtml;\n",
              "          element.appendChild(docLink);\n",
              "        }\n",
              "      </script>\n",
              "    </div>\n",
              "  </div>\n",
              "  "
            ]
          },
          "metadata": {},
          "execution_count": 29
        }
      ]
    },
    {
      "cell_type": "code",
      "source": [
        "X_test.shape"
      ],
      "metadata": {
        "colab": {
          "base_uri": "https://localhost:8080/"
        },
        "id": "7BWtFU96E5uO",
        "outputId": "82221772-68aa-449e-94c6-a8b4e85a6bfa"
      },
      "execution_count": 30,
      "outputs": [
        {
          "output_type": "execute_result",
          "data": {
            "text/plain": [
              "(21683, 9)"
            ]
          },
          "metadata": {},
          "execution_count": 30
        }
      ]
    },
    {
      "cell_type": "code",
      "source": [
        "y_train.head()"
      ],
      "metadata": {
        "colab": {
          "base_uri": "https://localhost:8080/"
        },
        "id": "fBZFBdXuNLtA",
        "outputId": "4c17f4bc-d0a2-4501-c252-5b63fc7c0f0d"
      },
      "execution_count": 31,
      "outputs": [
        {
          "output_type": "execute_result",
          "data": {
            "text/plain": [
              "49514    0\n",
              "1965     0\n",
              "7194     1\n",
              "46548    1\n",
              "7552     1\n",
              "Name: churn, dtype: int64"
            ]
          },
          "metadata": {},
          "execution_count": 31
        }
      ]
    },
    {
      "cell_type": "code",
      "source": [
        "y_test.head()"
      ],
      "metadata": {
        "colab": {
          "base_uri": "https://localhost:8080/"
        },
        "id": "FzHanzE0NN9W",
        "outputId": "39ee6a51-75ae-4ef7-a94a-6ccd67eed8d5"
      },
      "execution_count": 32,
      "outputs": [
        {
          "output_type": "execute_result",
          "data": {
            "text/plain": [
              "61039    1\n",
              "43134    0\n",
              "70700    0\n",
              "4872     0\n",
              "65464    0\n",
              "Name: churn, dtype: int64"
            ]
          },
          "metadata": {},
          "execution_count": 32
        }
      ]
    },
    {
      "cell_type": "code",
      "source": [
        "# Importamos libreria para crear modelo\n",
        "from sklearn.linear_model import LogisticRegression"
      ],
      "metadata": {
        "id": "H2ZtSX8NOUGX"
      },
      "execution_count": 33,
      "outputs": []
    },
    {
      "cell_type": "code",
      "source": [
        "from sklearn import metrics"
      ],
      "metadata": {
        "id": "fmdM58fdPN2j"
      },
      "execution_count": 34,
      "outputs": []
    },
    {
      "cell_type": "code",
      "source": [
        "logis = LogisticRegression() # Definir el algoritmo o modelo\n",
        "logis.fit(X_train, y_train) # Entrenar el modelo / Ajustar el modelo a los datos "
      ],
      "metadata": {
        "colab": {
          "base_uri": "https://localhost:8080/"
        },
        "id": "UUD_ygpAPRGf",
        "outputId": "213de064-b3b4-4943-a241-a920d135c980"
      },
      "execution_count": 35,
      "outputs": [
        {
          "output_type": "execute_result",
          "data": {
            "text/plain": [
              "LogisticRegression()"
            ]
          },
          "metadata": {},
          "execution_count": 35
        }
      ]
    },
    {
      "cell_type": "code",
      "source": [
        "predicciones_probabilidades = logis.predict_proba(X_test) #Este algoritmo tb puede predecir la probabilidad. Uso predict_proba\n",
        "predicciones_probabilidades[:10]"
      ],
      "metadata": {
        "colab": {
          "base_uri": "https://localhost:8080/"
        },
        "id": "xyVyDIkMfpZd",
        "outputId": "741a5b83-ffed-4f97-f035-249de7a23ed0"
      },
      "execution_count": 36,
      "outputs": [
        {
          "output_type": "execute_result",
          "data": {
            "text/plain": [
              "array([[0.01612926, 0.98387074],\n",
              "       [0.99116058, 0.00883942],\n",
              "       [0.98140013, 0.01859987],\n",
              "       [0.86568082, 0.13431918],\n",
              "       [0.94063106, 0.05936894],\n",
              "       [0.03125903, 0.96874097],\n",
              "       [0.62907022, 0.37092978],\n",
              "       [0.96978904, 0.03021096],\n",
              "       [0.91164087, 0.08835913],\n",
              "       [0.36385162, 0.63614838]])"
            ]
          },
          "metadata": {},
          "execution_count": 36
        }
      ]
    },
    {
      "cell_type": "code",
      "source": [
        "plt.hist(predicciones_probabilidades)"
      ],
      "metadata": {
        "id": "Z-w01gVwgsTb",
        "outputId": "97259374-9575-419a-c840-577816e11b94",
        "colab": {
          "base_uri": "https://localhost:8080/",
          "height": 401
        }
      },
      "execution_count": 37,
      "outputs": [
        {
          "output_type": "execute_result",
          "data": {
            "text/plain": [
              "(array([[4208., 4855., 2124., 1089.,  776.,  666.,  638.,  976., 1585.,\n",
              "         4766.],\n",
              "        [4766., 1585.,  976.,  638.,  666.,  776., 1089., 2124., 4855.,\n",
              "         4208.]]),\n",
              " array([1.00371713e-07, 1.00000080e-01, 2.00000060e-01, 3.00000040e-01,\n",
              "        4.00000020e-01, 5.00000000e-01, 5.99999980e-01, 6.99999960e-01,\n",
              "        7.99999940e-01, 8.99999920e-01, 9.99999900e-01]),\n",
              " <a list of 2 Lists of Patches objects>)"
            ]
          },
          "metadata": {},
          "execution_count": 37
        },
        {
          "output_type": "display_data",
          "data": {
            "text/plain": [
              "<Figure size 432x288 with 1 Axes>"
            ],
            "image/png": "[encoded data removed]"
          },
          "metadata": {
            "needs_background": "light"
          }
        }
      ]
    },
    {
      "cell_type": "code",
      "source": [
        "predicciones = logis.predict(X_test) #Con el predict predecimos la clase\n",
        "\n",
        "predicciones[:10]"
      ],
      "metadata": {
        "colab": {
          "base_uri": "https://localhost:8080/"
        },
        "id": "Dw3vymA5QaTn",
        "outputId": "0e88a92e-9fcb-4443-dfb2-f5358b78694b"
      },
      "execution_count": 38,
      "outputs": [
        {
          "output_type": "execute_result",
          "data": {
            "text/plain": [
              "array([1, 0, 0, 0, 0, 1, 0, 0, 0, 1])"
            ]
          },
          "metadata": {},
          "execution_count": 38
        }
      ]
    },
    {
      "cell_type": "code",
      "source": [
        "probs_df = pd.DataFrame(predicciones_probabilidades) #Para ver las probabilidad predichas en formato tabular.\n",
        "probs_df"
      ],
      "metadata": {
        "id": "nxkyKFdvhwp_",
        "outputId": "5107c551-0dae-481e-aece-0c16829853d1",
        "colab": {
          "base_uri": "https://localhost:8080/",
          "height": 419
        }
      },
      "execution_count": 39,
      "outputs": [
        {
          "output_type": "execute_result",
          "data": {
            "text/plain": [
              "              0         1\n",
              "0      0.016129  0.983871\n",
              "1      0.991161  0.008839\n",
              "2      0.981400  0.018600\n",
              "3      0.865681  0.134319\n",
              "4      0.940631  0.059369\n",
              "...         ...       ...\n",
              "21678  0.910053  0.089947\n",
              "21679  0.993263  0.006737\n",
              "21680  0.197784  0.802216\n",
              "21681  0.989852  0.010148\n",
              "21682  0.988293  0.011707\n",
              "\n",
              "[21683 rows x 2 columns]"
            ],
            "text/html": [
              "\n",
              "  <div id=\"df-29655a29-dfe2-47b0-aaa6-24eb122cb148\">\n",
              "    <div class=\"colab-df-container\">\n",
              "      <div>\n",
              "<style scoped>\n",
              "    .dataframe tbody tr th:only-of-type {\n",
              "        vertical-align: middle;\n",
              "    }\n",
              "\n",
              "    .dataframe tbody tr th {\n",
              "        vertical-align: top;\n",
              "    }\n",
              "\n",
              "    .dataframe thead th {\n",
              "        text-align: right;\n",
              "    }\n",
              "</style>\n",
              "<table border=\"1\" class=\"dataframe\">\n",
              "  <thead>\n",
              "    <tr style=\"text-align: right;\">\n",
              "      <th></th>\n",
              "      <th>0</th>\n",
              "      <th>1</th>\n",
              "    </tr>\n",
              "  </thead>\n",
              "  <tbody>\n",
              "    <tr>\n",
              "      <th>0</th>\n",
              "      <td>0.016129</td>\n",
              "      <td>0.983871</td>\n",
              "    </tr>\n",
              "    <tr>\n",
              "      <th>1</th>\n",
              "      <td>0.991161</td>\n",
              "      <td>0.008839</td>\n",
              "    </tr>\n",
              "    <tr>\n",
              "      <th>2</th>\n",
              "      <td>0.981400</td>\n",
              "      <td>0.018600</td>\n",
              "    </tr>\n",
              "    <tr>\n",
              "      <th>3</th>\n",
              "      <td>0.865681</td>\n",
              "      <td>0.134319</td>\n",
              "    </tr>\n",
              "    <tr>\n",
              "      <th>4</th>\n",
              "      <td>0.940631</td>\n",
              "      <td>0.059369</td>\n",
              "    </tr>\n",
              "    <tr>\n",
              "      <th>...</th>\n",
              "      <td>...</td>\n",
              "      <td>...</td>\n",
              "    </tr>\n",
              "    <tr>\n",
              "      <th>21678</th>\n",
              "      <td>0.910053</td>\n",
              "      <td>0.089947</td>\n",
              "    </tr>\n",
              "    <tr>\n",
              "      <th>21679</th>\n",
              "      <td>0.993263</td>\n",
              "      <td>0.006737</td>\n",
              "    </tr>\n",
              "    <tr>\n",
              "      <th>21680</th>\n",
              "      <td>0.197784</td>\n",
              "      <td>0.802216</td>\n",
              "    </tr>\n",
              "    <tr>\n",
              "      <th>21681</th>\n",
              "      <td>0.989852</td>\n",
              "      <td>0.010148</td>\n",
              "    </tr>\n",
              "    <tr>\n",
              "      <th>21682</th>\n",
              "      <td>0.988293</td>\n",
              "      <td>0.011707</td>\n",
              "    </tr>\n",
              "  </tbody>\n",
              "</table>\n",
              "<p>21683 rows × 2 columns</p>\n",
              "</div>\n",
              "      <button class=\"colab-df-convert\" onclick=\"convertToInteractive('df-29655a29-dfe2-47b0-aaa6-24eb122cb148')\"\n",
              "              title=\"Convert this dataframe to an interactive table.\"\n",
              "              style=\"display:none;\">\n",
              "        \n",
              "  <svg xmlns=\"http://www.w3.org/2000/svg\" height=\"24px\"viewBox=\"0 0 24 24\"\n",
              "       width=\"24px\">\n",
              "    <path d=\"M0 0h24v24H0V0z\" fill=\"none\"/>\n",
              "    <path d=\"M18.56 5.44l.94 2.06.94-2.06 2.06-.94-2.06-.94-.94-2.06-.94 2.06-2.06.94zm-11 1L8.5 8.5l.94-2.06 2.06-.94-2.06-.94L8.5 2.5l-.94 2.06-2.06.94zm10 10l.94 2.06.94-2.06 2.06-.94-2.06-.94-.94-2.06-.94 2.06-2.06.94z\"/><path d=\"M17.41 7.96l-1.37-1.37c-.4-.4-.92-.59-1.43-.59-.52 0-1.04.2-1.43.59L10.3 9.45l-7.72 7.72c-.78.78-.78 2.05 0 2.83L4 21.41c.39.39.9.59 1.41.59.51 0 1.02-.2 1.41-.59l7.78-7.78 2.81-2.81c.8-.78.8-2.07 0-2.86zM5.41 20L4 18.59l7.72-7.72 1.47 1.35L5.41 20z\"/>\n",
              "  </svg>\n",
              "      </button>\n",
              "      \n",
              "  <style>\n",
              "    .colab-df-container {\n",
              "      display:flex;\n",
              "      flex-wrap:wrap;\n",
              "      gap: 12px;\n",
              "    }\n",
              "\n",
              "    .colab-df-convert {\n",
              "      background-color: #E8F0FE;\n",
              "      border: none;\n",
              "      border-radius: 50%;\n",
              "      cursor: pointer;\n",
              "      display: none;\n",
              "      fill: #1967D2;\n",
              "      height: 32px;\n",
              "      padding: 0 0 0 0;\n",
              "      width: 32px;\n",
              "    }\n",
              "\n",
              "    .colab-df-convert:hover {\n",
              "      background-color: #E2EBFA;\n",
              "      box-shadow: 0px 1px 2px rgba(60, 64, 67, 0.3), 0px 1px 3px 1px rgba(60, 64, 67, 0.15);\n",
              "      fill: #174EA6;\n",
              "    }\n",
              "\n",
              "    [theme=dark] .colab-df-convert {\n",
              "      background-color: #3B4455;\n",
              "      fill: #D2E3FC;\n",
              "    }\n",
              "\n",
              "    [theme=dark] .colab-df-convert:hover {\n",
              "      background-color: #434B5C;\n",
              "      box-shadow: 0px 1px 3px 1px rgba(0, 0, 0, 0.15);\n",
              "      filter: drop-shadow(0px 1px 2px rgba(0, 0, 0, 0.3));\n",
              "      fill: #FFFFFF;\n",
              "    }\n",
              "  </style>\n",
              "\n",
              "      <script>\n",
              "        const buttonEl =\n",
              "          document.querySelector('#df-29655a29-dfe2-47b0-aaa6-24eb122cb148 button.colab-df-convert');\n",
              "        buttonEl.style.display =\n",
              "          google.colab.kernel.accessAllowed ? 'block' : 'none';\n",
              "\n",
              "        async function convertToInteractive(key) {\n",
              "          const element = document.querySelector('#df-29655a29-dfe2-47b0-aaa6-24eb122cb148');\n",
              "          const dataTable =\n",
              "            await google.colab.kernel.invokeFunction('convertToInteractive',\n",
              "                                                     [key], {});\n",
              "          if (!dataTable) return;\n",
              "\n",
              "          const docLinkHtml = 'Like what you see? Visit the ' +\n",
              "            '<a target=\"_blank\" href=https://colab.research.google.com/notebooks/data_table.ipynb>data table notebook</a>'\n",
              "            + ' to learn more about interactive tables.';\n",
              "          element.innerHTML = '';\n",
              "          dataTable['output_type'] = 'display_data';\n",
              "          await google.colab.output.renderOutput(dataTable, element);\n",
              "          const docLink = document.createElement('div');\n",
              "          docLink.innerHTML = docLinkHtml;\n",
              "          element.appendChild(docLink);\n",
              "        }\n",
              "      </script>\n",
              "    </div>\n",
              "  </div>\n",
              "  "
            ]
          },
          "metadata": {},
          "execution_count": 39
        }
      ]
    },
    {
      "cell_type": "markdown",
      "source": [
        "Vamos a pegarle el real y prediccion para ver como interactúan entre ellos"
      ],
      "metadata": {
        "id": "P08qa31Gh9Dm"
      }
    },
    {
      "cell_type": "code",
      "source": [
        "df_resultados = X_test.reset_index().copy()\n",
        "df_resultados[\"objetivo\"] = y_test.tolist()\n",
        "df_resultados[\"prediccion\"] = predicciones\n",
        "df_resultados = pd.concat([df_resultados, probs_df], axis=1)\n",
        "df_resultados[[\"objetivo\", \"prediccion\", 0, 1]].head(10)"
      ],
      "metadata": {
        "id": "2JgF3UjLhd5G",
        "outputId": "a41e15b8-7020-4d8a-d320-a58596afe4fb",
        "colab": {
          "base_uri": "https://localhost:8080/",
          "height": 359
        }
      },
      "execution_count": 40,
      "outputs": [
        {
          "output_type": "execute_result",
          "data": {
            "text/plain": [
              "   objetivo  prediccion         0         1\n",
              "0         1           1  0.016129  0.983871\n",
              "1         0           0  0.991161  0.008839\n",
              "2         0           0  0.981400  0.018600\n",
              "3         0           0  0.865681  0.134319\n",
              "4         0           0  0.940631  0.059369\n",
              "5         1           1  0.031259  0.968741\n",
              "6         1           0  0.629070  0.370930\n",
              "7         0           0  0.969789  0.030211\n",
              "8         0           0  0.911641  0.088359\n",
              "9         0           1  0.363852  0.636148"
            ],
            "text/html": [
              "\n",
              "  <div id=\"df-e76e6c65-867d-4317-b1d6-a6048c386730\">\n",
              "    <div class=\"colab-df-container\">\n",
              "      <div>\n",
              "<style scoped>\n",
              "    .dataframe tbody tr th:only-of-type {\n",
              "        vertical-align: middle;\n",
              "    }\n",
              "\n",
              "    .dataframe tbody tr th {\n",
              "        vertical-align: top;\n",
              "    }\n",
              "\n",
              "    .dataframe thead th {\n",
              "        text-align: right;\n",
              "    }\n",
              "</style>\n",
              "<table border=\"1\" class=\"dataframe\">\n",
              "  <thead>\n",
              "    <tr style=\"text-align: right;\">\n",
              "      <th></th>\n",
              "      <th>objetivo</th>\n",
              "      <th>prediccion</th>\n",
              "      <th>0</th>\n",
              "      <th>1</th>\n",
              "    </tr>\n",
              "  </thead>\n",
              "  <tbody>\n",
              "    <tr>\n",
              "      <th>0</th>\n",
              "      <td>1</td>\n",
              "      <td>1</td>\n",
              "      <td>0.016129</td>\n",
              "      <td>0.983871</td>\n",
              "    </tr>\n",
              "    <tr>\n",
              "      <th>1</th>\n",
              "      <td>0</td>\n",
              "      <td>0</td>\n",
              "      <td>0.991161</td>\n",
              "      <td>0.008839</td>\n",
              "    </tr>\n",
              "    <tr>\n",
              "      <th>2</th>\n",
              "      <td>0</td>\n",
              "      <td>0</td>\n",
              "      <td>0.981400</td>\n",
              "      <td>0.018600</td>\n",
              "    </tr>\n",
              "    <tr>\n",
              "      <th>3</th>\n",
              "      <td>0</td>\n",
              "      <td>0</td>\n",
              "      <td>0.865681</td>\n",
              "      <td>0.134319</td>\n",
              "    </tr>\n",
              "    <tr>\n",
              "      <th>4</th>\n",
              "      <td>0</td>\n",
              "      <td>0</td>\n",
              "      <td>0.940631</td>\n",
              "      <td>0.059369</td>\n",
              "    </tr>\n",
              "    <tr>\n",
              "      <th>5</th>\n",
              "      <td>1</td>\n",
              "      <td>1</td>\n",
              "      <td>0.031259</td>\n",
              "      <td>0.968741</td>\n",
              "    </tr>\n",
              "    <tr>\n",
              "      <th>6</th>\n",
              "      <td>1</td>\n",
              "      <td>0</td>\n",
              "      <td>0.629070</td>\n",
              "      <td>0.370930</td>\n",
              "    </tr>\n",
              "    <tr>\n",
              "      <th>7</th>\n",
              "      <td>0</td>\n",
              "      <td>0</td>\n",
              "      <td>0.969789</td>\n",
              "      <td>0.030211</td>\n",
              "    </tr>\n",
              "    <tr>\n",
              "      <th>8</th>\n",
              "      <td>0</td>\n",
              "      <td>0</td>\n",
              "      <td>0.911641</td>\n",
              "      <td>0.088359</td>\n",
              "    </tr>\n",
              "    <tr>\n",
              "      <th>9</th>\n",
              "      <td>0</td>\n",
              "      <td>1</td>\n",
              "      <td>0.363852</td>\n",
              "      <td>0.636148</td>\n",
              "    </tr>\n",
              "  </tbody>\n",
              "</table>\n",
              "</div>\n",
              "      <button class=\"colab-df-convert\" onclick=\"convertToInteractive('df-e76e6c65-867d-4317-b1d6-a6048c386730')\"\n",
              "              title=\"Convert this dataframe to an interactive table.\"\n",
              "              style=\"display:none;\">\n",
              "        \n",
              "  <svg xmlns=\"http://www.w3.org/2000/svg\" height=\"24px\"viewBox=\"0 0 24 24\"\n",
              "       width=\"24px\">\n",
              "    <path d=\"M0 0h24v24H0V0z\" fill=\"none\"/>\n",
              "    <path d=\"M18.56 5.44l.94 2.06.94-2.06 2.06-.94-2.06-.94-.94-2.06-.94 2.06-2.06.94zm-11 1L8.5 8.5l.94-2.06 2.06-.94-2.06-.94L8.5 2.5l-.94 2.06-2.06.94zm10 10l.94 2.06.94-2.06 2.06-.94-2.06-.94-.94-2.06-.94 2.06-2.06.94z\"/><path d=\"M17.41 7.96l-1.37-1.37c-.4-.4-.92-.59-1.43-.59-.52 0-1.04.2-1.43.59L10.3 9.45l-7.72 7.72c-.78.78-.78 2.05 0 2.83L4 21.41c.39.39.9.59 1.41.59.51 0 1.02-.2 1.41-.59l7.78-7.78 2.81-2.81c.8-.78.8-2.07 0-2.86zM5.41 20L4 18.59l7.72-7.72 1.47 1.35L5.41 20z\"/>\n",
              "  </svg>\n",
              "      </button>\n",
              "      \n",
              "  <style>\n",
              "    .colab-df-container {\n",
              "      display:flex;\n",
              "      flex-wrap:wrap;\n",
              "      gap: 12px;\n",
              "    }\n",
              "\n",
              "    .colab-df-convert {\n",
              "      background-color: #E8F0FE;\n",
              "      border: none;\n",
              "      border-radius: 50%;\n",
              "      cursor: pointer;\n",
              "      display: none;\n",
              "      fill: #1967D2;\n",
              "      height: 32px;\n",
              "      padding: 0 0 0 0;\n",
              "      width: 32px;\n",
              "    }\n",
              "\n",
              "    .colab-df-convert:hover {\n",
              "      background-color: #E2EBFA;\n",
              "      box-shadow: 0px 1px 2px rgba(60, 64, 67, 0.3), 0px 1px 3px 1px rgba(60, 64, 67, 0.15);\n",
              "      fill: #174EA6;\n",
              "    }\n",
              "\n",
              "    [theme=dark] .colab-df-convert {\n",
              "      background-color: #3B4455;\n",
              "      fill: #D2E3FC;\n",
              "    }\n",
              "\n",
              "    [theme=dark] .colab-df-convert:hover {\n",
              "      background-color: #434B5C;\n",
              "      box-shadow: 0px 1px 3px 1px rgba(0, 0, 0, 0.15);\n",
              "      filter: drop-shadow(0px 1px 2px rgba(0, 0, 0, 0.3));\n",
              "      fill: #FFFFFF;\n",
              "    }\n",
              "  </style>\n",
              "\n",
              "      <script>\n",
              "        const buttonEl =\n",
              "          document.querySelector('#df-e76e6c65-867d-4317-b1d6-a6048c386730 button.colab-df-convert');\n",
              "        buttonEl.style.display =\n",
              "          google.colab.kernel.accessAllowed ? 'block' : 'none';\n",
              "\n",
              "        async function convertToInteractive(key) {\n",
              "          const element = document.querySelector('#df-e76e6c65-867d-4317-b1d6-a6048c386730');\n",
              "          const dataTable =\n",
              "            await google.colab.kernel.invokeFunction('convertToInteractive',\n",
              "                                                     [key], {});\n",
              "          if (!dataTable) return;\n",
              "\n",
              "          const docLinkHtml = 'Like what you see? Visit the ' +\n",
              "            '<a target=\"_blank\" href=https://colab.research.google.com/notebooks/data_table.ipynb>data table notebook</a>'\n",
              "            + ' to learn more about interactive tables.';\n",
              "          element.innerHTML = '';\n",
              "          dataTable['output_type'] = 'display_data';\n",
              "          await google.colab.output.renderOutput(dataTable, element);\n",
              "          const docLink = document.createElement('div');\n",
              "          docLink.innerHTML = docLinkHtml;\n",
              "          element.appendChild(docLink);\n",
              "        }\n",
              "      </script>\n",
              "    </div>\n",
              "  </div>\n",
              "  "
            ]
          },
          "metadata": {},
          "execution_count": 40
        }
      ]
    },
    {
      "cell_type": "code",
      "source": [
        "from sklearn.metrics import confusion_matrix, precision_score, recall_score"
      ],
      "metadata": {
        "id": "Q4wzeGYrFGjT"
      },
      "execution_count": 41,
      "outputs": []
    },
    {
      "cell_type": "code",
      "source": [
        "cm = confusion_matrix(y_test, predicciones)\n",
        "cm"
      ],
      "metadata": {
        "colab": {
          "base_uri": "https://localhost:8080/"
        },
        "id": "QPrgPNhYAkux",
        "outputId": "2e0b3061-8633-487f-d3de-a1e3fc955d15"
      },
      "execution_count": 42,
      "outputs": [
        {
          "output_type": "execute_result",
          "data": {
            "text/plain": [
              "array([[ 7690,  1900],\n",
              "       [  941, 11152]])"
            ]
          },
          "metadata": {},
          "execution_count": 42
        }
      ]
    },
    {
      "cell_type": "markdown",
      "source": [
        "- Verdaderos positivos: 7,690 (Datos que eran 1 y el modelo lo predijo también). Clientes que se fueron y el modelo indica lo mismo.\n",
        "- Veradderos negativos: 11,152 (Datos que eran 0 y el modelo lo predijo también). Clientes que no se fueron pero el modelo dijo que se iban.\n",
        "- Falsos negativos: 1,900 (Datos reales que eran 1 y el modelo dijo que eran 0). Clientes que se fueron pero el modelo dijo que no se fueron.\n",
        "- Falsos positivos: 941 (Datos reales eran 0 y el modelo dijo que eran 1). Clientes que no se fueron pero el modelo dijo que se iban."
      ],
      "metadata": {
        "id": "DlxOzWWNLoU1"
      }
    },
    {
      "cell_type": "markdown",
      "source": [
        "# EXACTITUD (ACCURAY): capacidad del modelo para predecir los VN y VP.\n",
        "\n",
        "- (VP+VN)/(VP+FP+FN+VN)"
      ],
      "metadata": {
        "id": "8vZn-yq4meMn"
      }
    },
    {
      "cell_type": "code",
      "source": [
        "# Importamos metrica para calcular EXACTATIUD DEL MODELO\n",
        "from sklearn.metrics import accuracy_score"
      ],
      "metadata": {
        "id": "fI6I4vY8NAy9"
      },
      "execution_count": 43,
      "outputs": []
    },
    {
      "cell_type": "code",
      "source": [
        "# Exactitud del modelo ACCURACY\n",
        "accuracy = accuracy_score(y_test, predicciones)\n",
        "accuracy"
      ],
      "metadata": {
        "colab": {
          "base_uri": "https://localhost:8080/"
        },
        "id": "Ndxn_2peNM9x",
        "outputId": "387fef9e-9ab2-4a4a-d656-a3a4f6cb46fd"
      },
      "execution_count": 44,
      "outputs": [
        {
          "output_type": "execute_result",
          "data": {
            "text/plain": [
              "0.8689756952451229"
            ]
          },
          "metadata": {},
          "execution_count": 44
        }
      ]
    },
    {
      "cell_type": "code",
      "source": [
        "# Calculo el accuracy manualmente\n",
        "log_accuracy = (7690+11152)/(7690+1900+941+11152)\n",
        "log_accuracy"
      ],
      "metadata": {
        "colab": {
          "base_uri": "https://localhost:8080/"
        },
        "id": "t4MLok4CAnK7",
        "outputId": "5d88f036-2d48-4316-c588-bde166f315a8"
      },
      "execution_count": 45,
      "outputs": [
        {
          "output_type": "execute_result",
          "data": {
            "text/plain": [
              "0.8689756952451229"
            ]
          },
          "metadata": {},
          "execution_count": 45
        }
      ]
    },
    {
      "cell_type": "markdown",
      "source": [
        "# PRECISION: capacidad del modelo para predecir los valores positivos entre el total de positivos.\n",
        "\n",
        "- VP/(VP+FP)"
      ],
      "metadata": {
        "id": "NUoqOOtjmsgb"
      }
    },
    {
      "cell_type": "code",
      "source": [
        "# Precisión del modelo\n",
        "log_pre = precision_score(y_test, predicciones)\n",
        "log_pre"
      ],
      "metadata": {
        "colab": {
          "base_uri": "https://localhost:8080/"
        },
        "id": "pB5KbvFpFc38",
        "outputId": "e89e69f7-3ef8-41e6-b99d-a0025dc4829f"
      },
      "execution_count": 46,
      "outputs": [
        {
          "output_type": "execute_result",
          "data": {
            "text/plain": [
              "0.8544284400858106"
            ]
          },
          "metadata": {},
          "execution_count": 46
        }
      ]
    },
    {
      "cell_type": "markdown",
      "source": [
        "# RECALL O SENSIBILIDAD: capacidad para predecir como positivos aquellos valores que son positivos. Se conoce como Tasa de Verdaderos Positivos. Se calculca dividiendo los VP entre el total de incidencias.\n",
        "\n",
        "- VP/(VP+FN)"
      ],
      "metadata": {
        "id": "Zbqe_pk5m8BS"
      }
    },
    {
      "cell_type": "code",
      "source": [
        "# Calculamos la SENSIBILIDAD (RECALL)\n",
        "log_rec = recall_score(y_test, predicciones)\n",
        "log_rec"
      ],
      "metadata": {
        "colab": {
          "base_uri": "https://localhost:8080/"
        },
        "id": "lDBrhwChFvNc",
        "outputId": "6107c704-81cd-47bb-8e5d-7ce21b6e3276"
      },
      "execution_count": 47,
      "outputs": [
        {
          "output_type": "execute_result",
          "data": {
            "text/plain": [
              "0.9221863888199785"
            ]
          },
          "metadata": {},
          "execution_count": 47
        }
      ]
    },
    {
      "cell_type": "markdown",
      "source": [],
      "metadata": {
        "id": "i0JlJ-Kgjro0"
      }
    },
    {
      "cell_type": "markdown",
      "source": [
        "# ESPECIFICIDAD: capacidad para predecir los negativos. Se conoce como Tasa de Verdaderos Negativos. Se calcula dividiendo los VN, entre el total de incidencias.\n",
        "\n",
        "- VN/(VN+FP)"
      ],
      "metadata": {
        "id": "7dpnimWOngiL"
      }
    },
    {
      "cell_type": "code",
      "source": [
        "# Calculamos PUNTAJE F1, la cual es una combinación entre PRECISION Y SENSIBILIDAD\n",
        "from sklearn.metrics import f1_score"
      ],
      "metadata": {
        "id": "Brg0ZJ6sFwxu"
      },
      "execution_count": 48,
      "outputs": []
    },
    {
      "cell_type": "code",
      "source": [
        "# f1\n",
        "puntajef1 = f1_score(y_test, predicciones)\n",
        "puntajef1"
      ],
      "metadata": {
        "colab": {
          "base_uri": "https://localhost:8080/"
        },
        "id": "ofCzNwXSN1M4",
        "outputId": "a71c0666-5339-430d-cbd0-d0ed38e3c793"
      },
      "execution_count": 49,
      "outputs": [
        {
          "output_type": "execute_result",
          "data": {
            "text/plain": [
              "0.8870153111950686"
            ]
          },
          "metadata": {},
          "execution_count": 49
        }
      ]
    },
    {
      "cell_type": "code",
      "source": [
        "# Calculamos CURVA AUC\n",
        "from sklearn.metrics import roc_auc_score"
      ],
      "metadata": {
        "id": "5B13-H0tOPCe"
      },
      "execution_count": 50,
      "outputs": []
    },
    {
      "cell_type": "code",
      "source": [
        "roc_auc = roc_auc_score(y_test,predicciones)\n",
        "roc_auc"
      ],
      "metadata": {
        "colab": {
          "base_uri": "https://localhost:8080/"
        },
        "id": "i2zT3P2aOcR-",
        "outputId": "6e9c4648-8ee4-41c8-b561-9cf82b1109e8"
      },
      "execution_count": 51,
      "outputs": [
        {
          "output_type": "execute_result",
          "data": {
            "text/plain": [
              "0.8620316719908026"
            ]
          },
          "metadata": {},
          "execution_count": 51
        }
      ]
    },
    {
      "cell_type": "code",
      "source": [
        "from sklearn.metrics import roc_curve"
      ],
      "metadata": {
        "id": "-YjSoNlROmOv"
      },
      "execution_count": 52,
      "outputs": []
    },
    {
      "cell_type": "code",
      "source": [
        "# Visualizamos nuestra curva ROC\n",
        "fpr, tpr, thresholds = roc_curve(y_test, predicciones_probabilidades[:,1])\n",
        "plt.figure()\n",
        "plt.plot(fpr, tpr, label='Logistic Regression (area = %0.2f)' % roc_auc)\n",
        "plt.plot([0, 1], [0, 1],'r--')\n",
        "plt.xlim([0.0, 1.0])\n",
        "plt.ylim([0.0, 1.05])\n",
        "plt.xlabel('False Positive Rate')\n",
        "plt.ylabel('True Positive Rate')\n",
        "plt.title('Receiver operating characteristic')\n",
        "plt.legend(loc=\"lower right\")\n",
        "plt.savefig('Log_ROC')\n",
        "plt.show()"
      ],
      "metadata": {
        "colab": {
          "base_uri": "https://localhost:8080/",
          "height": 295
        },
        "id": "cA8bxR6yPRtM",
        "outputId": "0eaed819-a0c9-4952-ade9-baf63b2b9760"
      },
      "execution_count": 53,
      "outputs": [
        {
          "output_type": "display_data",
          "data": {
            "text/plain": [
              "<Figure size 432x288 with 1 Axes>"
            ],
            "image/png": "[encoded data removed]"
          },
          "metadata": {
            "needs_background": "light"
          }
        }
      ]
    },
    {
      "cell_type": "markdown",
      "source": [
        "Obtuvimos un alto valor de PRECISIÓN y RECALL que es bueno para un modelo como este."
      ],
      "metadata": {
        "id": "c0q1d6yIiv_r"
      }
    },
    {
      "cell_type": "markdown",
      "source": [
        "Validaremos si la efectividad de nuestro modelo mejora con una selección de variables."
      ],
      "metadata": {
        "id": "zRafVXa6TKxj"
      }
    },
    {
      "cell_type": "code",
      "source": [
        "X.head()"
      ],
      "metadata": {
        "id": "7VtpnZcRhNCt",
        "outputId": "c7f11050-6111-4742-d8f1-bd4a4ca6d2a9",
        "colab": {
          "base_uri": "https://localhost:8080/",
          "height": 268
        }
      },
      "execution_count": 67,
      "outputs": [
        {
          "output_type": "execute_result",
          "data": {
            "text/plain": [
              "   is_tv_subscriber  is_movie_package_subscriber  subscription_age  bill_avg  \\\n",
              "0                 1                            0             11.95        25   \n",
              "1                 0                            0              8.22         0   \n",
              "2                 1                            0              8.91        16   \n",
              "3                 0                            0              6.87        21   \n",
              "4                 0                            0              6.39         0   \n",
              "\n",
              "   reamining_contract  service_failure_count  download_avg  upload_avg  \\\n",
              "0                0.14                      0           8.4         2.3   \n",
              "1                0.00                      0           0.0         0.0   \n",
              "2                0.00                      0          13.7         0.9   \n",
              "3                0.00                      1           0.0         0.0   \n",
              "4                0.00                      0           0.0         0.0   \n",
              "\n",
              "   download_over_limit  \n",
              "0                    0  \n",
              "1                    0  \n",
              "2                    0  \n",
              "3                    0  \n",
              "4                    0  "
            ],
            "text/html": [
              "\n",
              "  <div id=\"df-5426521e-10bb-4855-8122-e792ebd68e71\">\n",
              "    <div class=\"colab-df-container\">\n",
              "      <div>\n",
              "<style scoped>\n",
              "    .dataframe tbody tr th:only-of-type {\n",
              "        vertical-align: middle;\n",
              "    }\n",
              "\n",
              "    .dataframe tbody tr th {\n",
              "        vertical-align: top;\n",
              "    }\n",
              "\n",
              "    .dataframe thead th {\n",
              "        text-align: right;\n",
              "    }\n",
              "</style>\n",
              "<table border=\"1\" class=\"dataframe\">\n",
              "  <thead>\n",
              "    <tr style=\"text-align: right;\">\n",
              "      <th></th>\n",
              "      <th>is_tv_subscriber</th>\n",
              "      <th>is_movie_package_subscriber</th>\n",
              "      <th>subscription_age</th>\n",
              "      <th>bill_avg</th>\n",
              "      <th>reamining_contract</th>\n",
              "      <th>service_failure_count</th>\n",
              "      <th>download_avg</th>\n",
              "      <th>upload_avg</th>\n",
              "      <th>download_over_limit</th>\n",
              "    </tr>\n",
              "  </thead>\n",
              "  <tbody>\n",
              "    <tr>\n",
              "      <th>0</th>\n",
              "      <td>1</td>\n",
              "      <td>0</td>\n",
              "      <td>11.95</td>\n",
              "      <td>25</td>\n",
              "      <td>0.14</td>\n",
              "      <td>0</td>\n",
              "      <td>8.4</td>\n",
              "      <td>2.3</td>\n",
              "      <td>0</td>\n",
              "    </tr>\n",
              "    <tr>\n",
              "      <th>1</th>\n",
              "      <td>0</td>\n",
              "      <td>0</td>\n",
              "      <td>8.22</td>\n",
              "      <td>0</td>\n",
              "      <td>0.00</td>\n",
              "      <td>0</td>\n",
              "      <td>0.0</td>\n",
              "      <td>0.0</td>\n",
              "      <td>0</td>\n",
              "    </tr>\n",
              "    <tr>\n",
              "      <th>2</th>\n",
              "      <td>1</td>\n",
              "      <td>0</td>\n",
              "      <td>8.91</td>\n",
              "      <td>16</td>\n",
              "      <td>0.00</td>\n",
              "      <td>0</td>\n",
              "      <td>13.7</td>\n",
              "      <td>0.9</td>\n",
              "      <td>0</td>\n",
              "    </tr>\n",
              "    <tr>\n",
              "      <th>3</th>\n",
              "      <td>0</td>\n",
              "      <td>0</td>\n",
              "      <td>6.87</td>\n",
              "      <td>21</td>\n",
              "      <td>0.00</td>\n",
              "      <td>1</td>\n",
              "      <td>0.0</td>\n",
              "      <td>0.0</td>\n",
              "      <td>0</td>\n",
              "    </tr>\n",
              "    <tr>\n",
              "      <th>4</th>\n",
              "      <td>0</td>\n",
              "      <td>0</td>\n",
              "      <td>6.39</td>\n",
              "      <td>0</td>\n",
              "      <td>0.00</td>\n",
              "      <td>0</td>\n",
              "      <td>0.0</td>\n",
              "      <td>0.0</td>\n",
              "      <td>0</td>\n",
              "    </tr>\n",
              "  </tbody>\n",
              "</table>\n",
              "</div>\n",
              "      <button class=\"colab-df-convert\" onclick=\"convertToInteractive('df-5426521e-10bb-4855-8122-e792ebd68e71')\"\n",
              "              title=\"Convert this dataframe to an interactive table.\"\n",
              "              style=\"display:none;\">\n",
              "        \n",
              "  <svg xmlns=\"http://www.w3.org/2000/svg\" height=\"24px\"viewBox=\"0 0 24 24\"\n",
              "       width=\"24px\">\n",
              "    <path d=\"M0 0h24v24H0V0z\" fill=\"none\"/>\n",
              "    <path d=\"M18.56 5.44l.94 2.06.94-2.06 2.06-.94-2.06-.94-.94-2.06-.94 2.06-2.06.94zm-11 1L8.5 8.5l.94-2.06 2.06-.94-2.06-.94L8.5 2.5l-.94 2.06-2.06.94zm10 10l.94 2.06.94-2.06 2.06-.94-2.06-.94-.94-2.06-.94 2.06-2.06.94z\"/><path d=\"M17.41 7.96l-1.37-1.37c-.4-.4-.92-.59-1.43-.59-.52 0-1.04.2-1.43.59L10.3 9.45l-7.72 7.72c-.78.78-.78 2.05 0 2.83L4 21.41c.39.39.9.59 1.41.59.51 0 1.02-.2 1.41-.59l7.78-7.78 2.81-2.81c.8-.78.8-2.07 0-2.86zM5.41 20L4 18.59l7.72-7.72 1.47 1.35L5.41 20z\"/>\n",
              "  </svg>\n",
              "      </button>\n",
              "      \n",
              "  <style>\n",
              "    .colab-df-container {\n",
              "      display:flex;\n",
              "      flex-wrap:wrap;\n",
              "      gap: 12px;\n",
              "    }\n",
              "\n",
              "    .colab-df-convert {\n",
              "      background-color: #E8F0FE;\n",
              "      border: none;\n",
              "      border-radius: 50%;\n",
              "      cursor: pointer;\n",
              "      display: none;\n",
              "      fill: #1967D2;\n",
              "      height: 32px;\n",
              "      padding: 0 0 0 0;\n",
              "      width: 32px;\n",
              "    }\n",
              "\n",
              "    .colab-df-convert:hover {\n",
              "      background-color: #E2EBFA;\n",
              "      box-shadow: 0px 1px 2px rgba(60, 64, 67, 0.3), 0px 1px 3px 1px rgba(60, 64, 67, 0.15);\n",
              "      fill: #174EA6;\n",
              "    }\n",
              "\n",
              "    [theme=dark] .colab-df-convert {\n",
              "      background-color: #3B4455;\n",
              "      fill: #D2E3FC;\n",
              "    }\n",
              "\n",
              "    [theme=dark] .colab-df-convert:hover {\n",
              "      background-color: #434B5C;\n",
              "      box-shadow: 0px 1px 3px 1px rgba(0, 0, 0, 0.15);\n",
              "      filter: drop-shadow(0px 1px 2px rgba(0, 0, 0, 0.3));\n",
              "      fill: #FFFFFF;\n",
              "    }\n",
              "  </style>\n",
              "\n",
              "      <script>\n",
              "        const buttonEl =\n",
              "          document.querySelector('#df-5426521e-10bb-4855-8122-e792ebd68e71 button.colab-df-convert');\n",
              "        buttonEl.style.display =\n",
              "          google.colab.kernel.accessAllowed ? 'block' : 'none';\n",
              "\n",
              "        async function convertToInteractive(key) {\n",
              "          const element = document.querySelector('#df-5426521e-10bb-4855-8122-e792ebd68e71');\n",
              "          const dataTable =\n",
              "            await google.colab.kernel.invokeFunction('convertToInteractive',\n",
              "                                                     [key], {});\n",
              "          if (!dataTable) return;\n",
              "\n",
              "          const docLinkHtml = 'Like what you see? Visit the ' +\n",
              "            '<a target=\"_blank\" href=https://colab.research.google.com/notebooks/data_table.ipynb>data table notebook</a>'\n",
              "            + ' to learn more about interactive tables.';\n",
              "          element.innerHTML = '';\n",
              "          dataTable['output_type'] = 'display_data';\n",
              "          await google.colab.output.renderOutput(dataTable, element);\n",
              "          const docLink = document.createElement('div');\n",
              "          docLink.innerHTML = docLinkHtml;\n",
              "          element.appendChild(docLink);\n",
              "        }\n",
              "      </script>\n",
              "    </div>\n",
              "  </div>\n",
              "  "
            ]
          },
          "metadata": {},
          "execution_count": 67
        }
      ]
    },
    {
      "cell_type": "code",
      "source": [
        "plt.figure(figsize=(15,8))\n",
        "sns.heatmap(correlation,vmin=-1,vmax=1,annot=True)\n",
        "plt.show()"
      ],
      "metadata": {
        "id": "oibG7HKKhN1m",
        "outputId": "5103427d-6fa8-41c6-caed-b163b96a88ce",
        "colab": {
          "base_uri": "https://localhost:8080/",
          "height": 625
        }
      },
      "execution_count": 68,
      "outputs": [
        {
          "output_type": "display_data",
          "data": {
            "text/plain": [
              "<Figure size 1080x576 with 2 Axes>"
            ],
            "image/png": "[encoded data removed]"
          },
          "metadata": {
            "needs_background": "light"
          }
        }
      ]
    },
    {
      "cell_type": "code",
      "source": [
        "X_new = X_normalizado.drop(['is_movie_package_subscriber'], axis=1)\n",
        "X_new = X_normalizado.drop(['upload_avg'], axis=1)\n",
        "X_new = X_normalizado.drop(['bill_avg'], axis=1)"
      ],
      "metadata": {
        "id": "6iNWC-KohUVp"
      },
      "execution_count": 71,
      "outputs": []
    },
    {
      "cell_type": "code",
      "source": [
        "X_new.head()"
      ],
      "metadata": {
        "id": "nua_ZdR-j1JN",
        "outputId": "a1cf9ac2-1b7c-47d5-aed4-8c65efb9ed8e",
        "colab": {
          "base_uri": "https://localhost:8080/",
          "height": 248
        }
      },
      "execution_count": 72,
      "outputs": [
        {
          "output_type": "execute_result",
          "data": {
            "text/plain": [
              "   is_tv_subscriber  is_movie_package_subscriber  subscription_age  \\\n",
              "0               1.0                          0.0          0.933697   \n",
              "1               0.0                          0.0          0.642746   \n",
              "2               1.0                          0.0          0.696568   \n",
              "3               0.0                          0.0          0.537441   \n",
              "4               0.0                          0.0          0.500000   \n",
              "\n",
              "   reamining_contract  service_failure_count  download_avg  upload_avg  \\\n",
              "0            0.047945               0.000000      0.001903    0.005074   \n",
              "1            0.000000               0.000000      0.000000    0.000000   \n",
              "2            0.000000               0.000000      0.003103    0.001985   \n",
              "3            0.000000               0.052632      0.000000    0.000000   \n",
              "4            0.000000               0.000000      0.000000    0.000000   \n",
              "\n",
              "   download_over_limit  \n",
              "0                  0.0  \n",
              "1                  0.0  \n",
              "2                  0.0  \n",
              "3                  0.0  \n",
              "4                  0.0  "
            ],
            "text/html": [
              "\n",
              "  <div id=\"df-2285a443-9fe3-4f40-8108-6280a0fa62f6\">\n",
              "    <div class=\"colab-df-container\">\n",
              "      <div>\n",
              "<style scoped>\n",
              "    .dataframe tbody tr th:only-of-type {\n",
              "        vertical-align: middle;\n",
              "    }\n",
              "\n",
              "    .dataframe tbody tr th {\n",
              "        vertical-align: top;\n",
              "    }\n",
              "\n",
              "    .dataframe thead th {\n",
              "        text-align: right;\n",
              "    }\n",
              "</style>\n",
              "<table border=\"1\" class=\"dataframe\">\n",
              "  <thead>\n",
              "    <tr style=\"text-align: right;\">\n",
              "      <th></th>\n",
              "      <th>is_tv_subscriber</th>\n",
              "      <th>is_movie_package_subscriber</th>\n",
              "      <th>subscription_age</th>\n",
              "      <th>reamining_contract</th>\n",
              "      <th>service_failure_count</th>\n",
              "      <th>download_avg</th>\n",
              "      <th>upload_avg</th>\n",
              "      <th>download_over_limit</th>\n",
              "    </tr>\n",
              "  </thead>\n",
              "  <tbody>\n",
              "    <tr>\n",
              "      <th>0</th>\n",
              "      <td>1.0</td>\n",
              "      <td>0.0</td>\n",
              "      <td>0.933697</td>\n",
              "      <td>0.047945</td>\n",
              "      <td>0.000000</td>\n",
              "      <td>0.001903</td>\n",
              "      <td>0.005074</td>\n",
              "      <td>0.0</td>\n",
              "    </tr>\n",
              "    <tr>\n",
              "      <th>1</th>\n",
              "      <td>0.0</td>\n",
              "      <td>0.0</td>\n",
              "      <td>0.642746</td>\n",
              "      <td>0.000000</td>\n",
              "      <td>0.000000</td>\n",
              "      <td>0.000000</td>\n",
              "      <td>0.000000</td>\n",
              "      <td>0.0</td>\n",
              "    </tr>\n",
              "    <tr>\n",
              "      <th>2</th>\n",
              "      <td>1.0</td>\n",
              "      <td>0.0</td>\n",
              "      <td>0.696568</td>\n",
              "      <td>0.000000</td>\n",
              "      <td>0.000000</td>\n",
              "      <td>0.003103</td>\n",
              "      <td>0.001985</td>\n",
              "      <td>0.0</td>\n",
              "    </tr>\n",
              "    <tr>\n",
              "      <th>3</th>\n",
              "      <td>0.0</td>\n",
              "      <td>0.0</td>\n",
              "      <td>0.537441</td>\n",
              "      <td>0.000000</td>\n",
              "      <td>0.052632</td>\n",
              "      <td>0.000000</td>\n",
              "      <td>0.000000</td>\n",
              "      <td>0.0</td>\n",
              "    </tr>\n",
              "    <tr>\n",
              "      <th>4</th>\n",
              "      <td>0.0</td>\n",
              "      <td>0.0</td>\n",
              "      <td>0.500000</td>\n",
              "      <td>0.000000</td>\n",
              "      <td>0.000000</td>\n",
              "      <td>0.000000</td>\n",
              "      <td>0.000000</td>\n",
              "      <td>0.0</td>\n",
              "    </tr>\n",
              "  </tbody>\n",
              "</table>\n",
              "</div>\n",
              "      <button class=\"colab-df-convert\" onclick=\"convertToInteractive('df-2285a443-9fe3-4f40-8108-6280a0fa62f6')\"\n",
              "              title=\"Convert this dataframe to an interactive table.\"\n",
              "              style=\"display:none;\">\n",
              "        \n",
              "  <svg xmlns=\"http://www.w3.org/2000/svg\" height=\"24px\"viewBox=\"0 0 24 24\"\n",
              "       width=\"24px\">\n",
              "    <path d=\"M0 0h24v24H0V0z\" fill=\"none\"/>\n",
              "    <path d=\"M18.56 5.44l.94 2.06.94-2.06 2.06-.94-2.06-.94-.94-2.06-.94 2.06-2.06.94zm-11 1L8.5 8.5l.94-2.06 2.06-.94-2.06-.94L8.5 2.5l-.94 2.06-2.06.94zm10 10l.94 2.06.94-2.06 2.06-.94-2.06-.94-.94-2.06-.94 2.06-2.06.94z\"/><path d=\"M17.41 7.96l-1.37-1.37c-.4-.4-.92-.59-1.43-.59-.52 0-1.04.2-1.43.59L10.3 9.45l-7.72 7.72c-.78.78-.78 2.05 0 2.83L4 21.41c.39.39.9.59 1.41.59.51 0 1.02-.2 1.41-.59l7.78-7.78 2.81-2.81c.8-.78.8-2.07 0-2.86zM5.41 20L4 18.59l7.72-7.72 1.47 1.35L5.41 20z\"/>\n",
              "  </svg>\n",
              "      </button>\n",
              "      \n",
              "  <style>\n",
              "    .colab-df-container {\n",
              "      display:flex;\n",
              "      flex-wrap:wrap;\n",
              "      gap: 12px;\n",
              "    }\n",
              "\n",
              "    .colab-df-convert {\n",
              "      background-color: #E8F0FE;\n",
              "      border: none;\n",
              "      border-radius: 50%;\n",
              "      cursor: pointer;\n",
              "      display: none;\n",
              "      fill: #1967D2;\n",
              "      height: 32px;\n",
              "      padding: 0 0 0 0;\n",
              "      width: 32px;\n",
              "    }\n",
              "\n",
              "    .colab-df-convert:hover {\n",
              "      background-color: #E2EBFA;\n",
              "      box-shadow: 0px 1px 2px rgba(60, 64, 67, 0.3), 0px 1px 3px 1px rgba(60, 64, 67, 0.15);\n",
              "      fill: #174EA6;\n",
              "    }\n",
              "\n",
              "    [theme=dark] .colab-df-convert {\n",
              "      background-color: #3B4455;\n",
              "      fill: #D2E3FC;\n",
              "    }\n",
              "\n",
              "    [theme=dark] .colab-df-convert:hover {\n",
              "      background-color: #434B5C;\n",
              "      box-shadow: 0px 1px 3px 1px rgba(0, 0, 0, 0.15);\n",
              "      filter: drop-shadow(0px 1px 2px rgba(0, 0, 0, 0.3));\n",
              "      fill: #FFFFFF;\n",
              "    }\n",
              "  </style>\n",
              "\n",
              "      <script>\n",
              "        const buttonEl =\n",
              "          document.querySelector('#df-2285a443-9fe3-4f40-8108-6280a0fa62f6 button.colab-df-convert');\n",
              "        buttonEl.style.display =\n",
              "          google.colab.kernel.accessAllowed ? 'block' : 'none';\n",
              "\n",
              "        async function convertToInteractive(key) {\n",
              "          const element = document.querySelector('#df-2285a443-9fe3-4f40-8108-6280a0fa62f6');\n",
              "          const dataTable =\n",
              "            await google.colab.kernel.invokeFunction('convertToInteractive',\n",
              "                                                     [key], {});\n",
              "          if (!dataTable) return;\n",
              "\n",
              "          const docLinkHtml = 'Like what you see? Visit the ' +\n",
              "            '<a target=\"_blank\" href=https://colab.research.google.com/notebooks/data_table.ipynb>data table notebook</a>'\n",
              "            + ' to learn more about interactive tables.';\n",
              "          element.innerHTML = '';\n",
              "          dataTable['output_type'] = 'display_data';\n",
              "          await google.colab.output.renderOutput(dataTable, element);\n",
              "          const docLink = document.createElement('div');\n",
              "          docLink.innerHTML = docLinkHtml;\n",
              "          element.appendChild(docLink);\n",
              "        }\n",
              "      </script>\n",
              "    </div>\n",
              "  </div>\n",
              "  "
            ]
          },
          "metadata": {},
          "execution_count": 72
        }
      ]
    },
    {
      "cell_type": "code",
      "source": [
        "X_train_new, X_test_new, y_train_new, y_test_new = train_test_split(X_new, y, train_size=0.7, random_state=4)"
      ],
      "metadata": {
        "id": "e4xBwlKhj3Bd"
      },
      "execution_count": 73,
      "outputs": []
    },
    {
      "cell_type": "code",
      "source": [
        "logis_new = LogisticRegression() # Definir el algoritmo o modelo\n",
        "logis_new.fit(X_train_new, y_train_new) # Entrenar el modelo / Ajustar el modelo a los datos "
      ],
      "metadata": {
        "id": "Oyf6EqclkySJ",
        "outputId": "8b749d3e-5e31-414e-ca39-2d6175d4fd9a",
        "colab": {
          "base_uri": "https://localhost:8080/"
        }
      },
      "execution_count": 74,
      "outputs": [
        {
          "output_type": "execute_result",
          "data": {
            "text/plain": [
              "LogisticRegression()"
            ]
          },
          "metadata": {},
          "execution_count": 74
        }
      ]
    },
    {
      "cell_type": "code",
      "source": [
        "predicciones_new = logis_new.predict(X_test_new) #Con el predict predecimos la clase"
      ],
      "metadata": {
        "id": "D3PIlyR0lGiV"
      },
      "execution_count": 76,
      "outputs": []
    },
    {
      "cell_type": "code",
      "source": [
        "cm2 = confusion_matrix(y_test_new, predicciones_new)\n",
        "cm2"
      ],
      "metadata": {
        "id": "1YwPWkk7lSSa",
        "outputId": "9c5a84a0-d6f0-4adb-944a-52454ca2edc6",
        "colab": {
          "base_uri": "https://localhost:8080/"
        }
      },
      "execution_count": 77,
      "outputs": [
        {
          "output_type": "execute_result",
          "data": {
            "text/plain": [
              "array([[ 7701,  1889],\n",
              "       [  934, 11159]])"
            ]
          },
          "metadata": {},
          "execution_count": 77
        }
      ]
    },
    {
      "cell_type": "code",
      "source": [
        "# Precisión del modelo\n",
        "log_pre2 = precision_score(y_test_new, predicciones_new)\n",
        "log_pre2"
      ],
      "metadata": {
        "id": "R1gw7jI2mSnA",
        "outputId": "b6e2e305-f23a-4dd1-de03-5c67d9a8af9d",
        "colab": {
          "base_uri": "https://localhost:8080/"
        }
      },
      "execution_count": 78,
      "outputs": [
        {
          "output_type": "execute_result",
          "data": {
            "text/plain": [
              "0.855226854690374"
            ]
          },
          "metadata": {},
          "execution_count": 78
        }
      ]
    },
    {
      "cell_type": "code",
      "source": [
        "# Calculamos la SENSIBILIDAD (RECALL)\n",
        "log_rec2 = recall_score(y_test_new, predicciones_new)\n",
        "log_rec2"
      ],
      "metadata": {
        "id": "fw7j9TEFnK5S",
        "outputId": "9f51df3d-fb1e-4541-e02a-528df9fd1132",
        "colab": {
          "base_uri": "https://localhost:8080/"
        }
      },
      "execution_count": 79,
      "outputs": [
        {
          "output_type": "execute_result",
          "data": {
            "text/plain": [
              "0.9227652360869925"
            ]
          },
          "metadata": {},
          "execution_count": 79
        }
      ]
    },
    {
      "cell_type": "markdown",
      "source": [
        "Nuestro modelo con selección de variables mejora ligeramente el poder predictivo del modelo."
      ],
      "metadata": {
        "id": "4OnFzGTfnS1W"
      }
    }
  ]
}